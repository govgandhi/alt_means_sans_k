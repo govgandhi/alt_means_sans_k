{
 "cells": [
  {
   "cell_type": "code",
   "execution_count": 18,
   "id": "2a039c4b",
   "metadata": {},
   "outputs": [],
   "source": [
    "import sys\n",
    "\n",
    "import numpy as np\n",
    "from scipy import sparse\n",
    "import pandas as pd\n",
    "import networkx as nx\n",
    "import gensim\n",
    "import matplotlib.pyplot as plt\n",
    "import seaborn as sns\n",
    "from sklearn.cluster import KMeans \n",
    "from sklearn.cluster import OPTICS\n",
    "from sklearn.cluster import OPTICS, DBSCAN\n",
    "from fastnode2vec import Graph, Node2Vec\n",
    "import faiss"
   ]
  },
  {
   "cell_type": "code",
   "execution_count": 19,
   "id": "fd4de3cb",
   "metadata": {},
   "outputs": [],
   "source": [
    "#!{sys.executable} -m pip install faiss-cpu"
   ]
  },
  {
   "cell_type": "code",
   "execution_count": 21,
   "id": "07f90597",
   "metadata": {},
   "outputs": [
    {
     "name": "stdout",
     "output_type": "stream",
     "text": [
      "Graph with 10000 nodes and 20696 edges\n"
     ]
    },
    {
     "name": "stderr",
     "output_type": "stream",
     "text": [
      "/var/folders/vf/kfvh73qd06g_1xbmqfc9j7gc0000gn/T/ipykernel_41572/2167857933.py:7: DeprecationWarning: info is deprecated and will be removed in version 3.0.\n",
      "\n",
      "  print(nx.info(G))\n"
     ]
    },
    {
     "data": {
      "application/vnd.jupyter.widget-view+json": {
       "model_id": "",
       "version_major": 2,
       "version_minor": 0
      },
      "text/plain": [
       "Reading graph:   0%|                                  | 0/20696 [00:00<?, ?it/s]"
      ]
     },
     "metadata": {},
     "output_type": "display_data"
    }
   ],
   "source": [
    "# Create a NetworkX graph\n",
    "n = 10000\n",
    "tau1 = 3\n",
    "tau2 = 1.5\n",
    "mu = 0.2\n",
    "G = nx.LFR_benchmark_graph(n, tau1, tau2, mu, average_degree=5, min_community=25, seed=10)\n",
    "print(nx.info(G))\n",
    "#nx.write_graphml(G, \"LFR_n_10000_tau1_3_tau2_1.5_mu_0.2_k_5_mincomm_25_seed_10.graphml\")\n",
    "\n",
    "# Create a Fastnode2vec Graph\n",
    "fastnode2vec_graph = Graph(list(G.edges()), directed = False, weighted = False)"
   ]
  },
  {
   "cell_type": "markdown",
   "id": "3e54d739",
   "metadata": {},
   "source": [
    "We need a coherent list of community labels, since community of node 1 gives a set of all elements node 1 belongs alongside in a community\n"
   ]
  },
  {
   "cell_type": "code",
   "execution_count": 22,
   "id": "383acdb3",
   "metadata": {},
   "outputs": [],
   "source": [
    "comm_dict = nx.get_node_attributes(G,\"community\")\n",
    "comm_dict = list(comm_dict.values())\n",
    "# Sample list with sets\n",
    "\n",
    "# Get unique sets\n",
    "unique_sets = list(set(tuple(s) for s in comm_dict))\n",
    "# Convert the unique sets back to a list of sets\n",
    "unique_list_of_sets = [set(s) for s in unique_sets]"
   ]
  },
  {
   "cell_type": "code",
   "execution_count": 23,
   "id": "cd762394",
   "metadata": {},
   "outputs": [],
   "source": [
    "node_to_comm_mapping = {}\n",
    "\n",
    "for node in list(G.nodes()):\n",
    "    for set_index, current_set in enumerate(unique_list_of_sets):\n",
    "\n",
    "        if node in current_set:\n",
    "            node_to_comm_mapping[node] = set_index+1\n",
    "membership = np.array(list(node_to_comm_mapping.values()))"
   ]
  },
  {
   "cell_type": "code",
   "execution_count": 24,
   "id": "9f63ba1f",
   "metadata": {},
   "outputs": [
    {
     "data": {
      "image/png": "[encoded data removed]",
      "text/plain": [
       "<Figure size 640x480 with 1 Axes>"
      ]
     },
     "metadata": {},
     "output_type": "display_data"
    }
   ],
   "source": [
    "# Create a histogram of the element lengths\n",
    "plt.hist([len(element) for element in unique_list_of_sets], bins=30, edgecolor='black', alpha=0.7)\n",
    "\n",
    "# Set plot labels and title\n",
    "plt.xlabel('Cluster Size')\n",
    "plt.ylabel('Count')\n",
    "plt.title('Cluster Size Distribution in LFR Graph')\n",
    "\n",
    "# Show the histogram\n",
    "plt.show()"
   ]
  },
  {
   "cell_type": "code",
   "execution_count": 7,
   "id": "0f84e7f6",
   "metadata": {},
   "outputs": [
    {
     "data": {
      "application/vnd.jupyter.widget-view+json": {
       "model_id": "",
       "version_major": 2,
       "version_minor": 0
      },
      "text/plain": [
       "Epochs:   0%|                                           | 0/100 [00:00<?, ?it/s]"
      ]
     },
     "metadata": {},
     "output_type": "display_data"
    },
    {
     "name": "stdout",
     "output_type": "stream",
     "text": [
      "[ 0.25166285 -0.00893521 -0.11460944  0.15318567  0.12318979 -0.12437236\n",
      " -0.24458031  0.40289658  0.33046985 -0.03043549  0.22051941 -0.14608318\n",
      "  0.15248686 -0.18191774 -0.16399759  0.21914886 -0.1961499  -0.27851823\n",
      " -0.08781896 -0.11432759 -0.05535277 -0.12868421  0.14761661 -0.14482123\n",
      " -0.30576143  0.08355343  0.00634994 -0.04090841 -0.14063454  0.20334679\n",
      "  0.16755289 -0.24656731 -0.24703975 -0.22134314  0.09801632 -0.20093527\n",
      " -0.32477573  0.08065616  0.12736934 -0.22987518 -0.2368714   0.1455026\n",
      " -0.07948206 -0.11406266  0.30043232 -0.20352247  0.4822428   0.15469584\n",
      "  0.24528638  0.08956654  0.38058153  0.23101756  0.08436253  0.42203325\n",
      "  0.15972145  0.29861236  0.3672076   0.17946495  0.29785448  0.15619509\n",
      " -0.0699883  -0.00801706  0.05482645  0.03123027]\n"
     ]
    }
   ],
   "source": [
    "n2v = Node2Vec(fastnode2vec_graph, dim=64, walk_length=100, window=10, p=2.0, q=0.5, workers=2)\n",
    "\n",
    "n2v.train(epochs=100)\n",
    "\n",
    "print(n2v.wv[0])\n",
    "n2v.wv.save(\"LFR.txt.gz.wv\")"
   ]
  },
  {
   "cell_type": "code",
   "execution_count": 8,
   "id": "919d33ad",
   "metadata": {},
   "outputs": [],
   "source": [
    "# To Load Embeddings:\n",
    "from gensim.models import KeyedVectors\n",
    "\n",
    "#wv = KeyedVectors.load(\"LFR_n_10000_tau1_3_tau2_1.5_mu_0.2_k_5_mincomm_25_seed_10.txt.gz.wv\", mmap='r')\n",
    "wv = KeyedVectors.load(\"LFR.txt.gz.wv\", mmap='r')\n",
    "\n"
   ]
  },
  {
   "cell_type": "code",
   "execution_count": 9,
   "id": "dbf23561",
   "metadata": {},
   "outputs": [
    {
     "data": {
      "text/plain": [
       "(60, 64, 2)"
      ]
     },
     "execution_count": 9,
     "metadata": {},
     "output_type": "execute_result"
    }
   ],
   "source": [
    "len(wv), len(wv[0]), len(unique_list_of_sets)"
   ]
  },
  {
   "cell_type": "markdown",
   "id": "32ba31a1",
   "metadata": {},
   "source": [
    "## Reproducing results"
   ]
  },
  {
   "cell_type": "code",
   "execution_count": 10,
   "id": "6438f5dd",
   "metadata": {},
   "outputs": [],
   "source": [
    "# Need net, node_table and emb files\n",
    "# net is G, emb files are wv, node_table probably\n",
    "# has some info about ground truth community labels or smth like that.\n",
    "\n",
    "# Define a function that calculates element-centric similarity:\n",
    "def calc_esim(y, ypred):\n",
    "\n",
    "    ylab, y = np.unique(y, return_inverse=True)\n",
    "    ypredlab, ypred = np.unique(ypred, return_inverse=True)\n",
    "    \n",
    "    Ka, Kb = len(ylab), len(ypredlab)\n",
    "    K = np.maximum(Ka, Kb)\n",
    "    N = len(y)\n",
    "    \n",
    "    UA = sparse.csr_matrix((np.ones_like(y), (np.arange(y.size), y)), shape=(N,K))\n",
    "    UB = sparse.csr_matrix((np.ones_like(ypred), (np.arange(ypred.size), ypred)), shape=(N, K))    \n",
    "    \n",
    "    nA = np.array(UA.sum(axis=0)).reshape(-1)\n",
    "    nB = np.array(UB.sum(axis=0)).reshape(-1)\n",
    "\n",
    "# nAB[i][j] is read as the number of elements that belong to ith ground truth label and jth predicrted label.\n",
    "# nAB[1][0] = 1 For ground truth label with index 1 and predicted label 0 we have 1 element. i.e. 0000|1| vs 1110|0|\n",
    "\n",
    "    nAB = (UA.T @ UB).toarray()\n",
    "    nAB_rand = np.outer(nA, nB) / N\n",
    "    \n",
    "# assuming that each element has an equal probability of being assigned to any label,\n",
    "# and the expected counts are calculated based on label frequencies.\n",
    "\n",
    "\n",
    "    # Calc element-centric similarity\n",
    "    Q = np.maximum(nA[:, None] @ np.ones((1, K)), np.ones((K, 1)) @ nB[None, :]) \n",
    "    Q = 1 / np.maximum(Q, 1)\n",
    "    S = np.sum(np.multiply(Q, (nAB**2))) / N\n",
    "    \n",
    "    # Calc the expected element-centric similarity for random partitions\n",
    "    Q = np.maximum(nA[:, None] @ np.ones((1, K)), np.ones((K, 1)) @ nB[None, :]) \n",
    "    Q = 1 / np.maximum(Q, 1)\n",
    "    Srand = np.sum(np.multiply(Q, (nAB_rand**2))) / N\n",
    "    Scorrected = (S - Srand) / (1 - Srand)\n",
    "    return Scorrected\n"
   ]
  },
  {
   "cell_type": "code",
   "execution_count": 11,
   "id": "4ba029d2",
   "metadata": {},
   "outputs": [
    {
     "name": "stdout",
     "output_type": "stream",
     "text": [
      "Element-centric similarity:\n",
      "K-means: 0.3382273706896554\n",
      "DBSCAN: 0.0\n",
      "OPTICS: 0.0\n"
     ]
    }
   ],
   "source": [
    "wv_array = np.vstack([wv[node] for node in list(G.nodes())])\n",
    "\n",
    "# Normalize the vector of each node to have unit length. This normalization improves clustering.\n",
    "X = np.einsum(\"ij,i->ij\", wv_array, 1 / np.maximum(np.linalg.norm(wv_array, axis=1), 1e-24))\n",
    "X = wv_array.copy()\n",
    "# Clustering\n",
    "kmeans = KMeans(n_clusters= len(unique_list_of_sets), random_state=0).fit(X)\n",
    "dbscan = DBSCAN().fit(X)\n",
    "optics = OPTICS().fit(X)\n",
    "\n",
    "test_labels = kmeans.labels_\n",
    "\n",
    "# Evaluate the clustering\n",
    "score_kmeans = calc_esim(membership, kmeans.labels_)\n",
    "score_dbscan = calc_esim(membership, dbscan.labels_)\n",
    "score_optics = calc_esim(membership, optics.labels_)\n",
    "\n",
    "print(f\"Element-centric similarity:\") \n",
    "print(f\"K-means: {score_kmeans}\")\n",
    "print(f\"DBSCAN: {score_dbscan}\") # Something Wrong\n",
    "print(f\"OPTICS: {score_optics}\") # Something Wrong\n"
   ]
  },
  {
   "cell_type": "code",
   "execution_count": 12,
   "id": "5efd2e0b",
   "metadata": {},
   "outputs": [
    {
     "data": {
      "image/png": "[encoded data removed]",
      "text/plain": [
       "<Figure size 500x500 with 1 Axes>"
      ]
     },
     "metadata": {},
     "output_type": "display_data"
    }
   ],
   "source": [
    "clus_sz = np.unique(membership, return_counts=True)[1] \n",
    "clus_sz_kmeans = np.unique(kmeans.labels_, return_counts=True)[1]\n",
    "clus_sz_dbscan = np.unique(dbscan.labels_, return_counts=True)[1]\n",
    "clus_sz_optics = np.unique(optics.labels_, return_counts=True)[1]\n",
    "sns.set_style('white')\n",
    "sns.set(font_scale=1.2)\n",
    "sns.set_style('ticks')\n",
    "fig, ax = plt.subplots(figsize=(5,5))\n",
    "sns.histplot(clus_sz_kmeans, bins = 30, color = sns.color_palette().as_hex()[0],label = \"K-means\", ax = ax)\n",
    "#sns.histplot(clus_sz_dbscan, bins = 30, color = sns.color_palette().as_hex()[1],label = \"DBSCAN\", ax = ax)\n",
    "#sns.histplot(clus_sz_optics, bins = 30, color = sns.color_palette().as_hex()[2],label = \"OPTICS\", ax = ax)\n",
    "sns.histplot(clus_sz, bins = 30, color = sns.color_palette().as_hex()[3], label= \"Ground-truth\", ax = ax) \n",
    "ax.legend(frameon = False) \n",
    "ax.set_xlabel(\"Cluster Size\")\n",
    "sns.despine()"
   ]
  },
  {
   "cell_type": "markdown",
   "id": "54d92c9e",
   "metadata": {},
   "source": [
    "### The cluster size distribution is right skewed and fat tailed. \n",
    "Many communities are small (<40) but large ones exist too. The K means does detect some communities of higher size. Maybe the order of magnitude is not sufficiently large, but still not perfectly of course.  \n",
    "(#TODO: Increase order of magnitude by 1)"
   ]
  },
  {
   "cell_type": "code",
   "execution_count": 13,
   "id": "9d3bebdf",
   "metadata": {},
   "outputs": [],
   "source": [
    "def find_knn_edges(emb, num_neighbors, \n",
    "                   target=None, metric=\"dotsim\",\n",
    "                   device=None):\n",
    "    \n",
    "    k = int(np.minimum(num_neighbors + 1, emb.shape[0]).astype(int))\n",
    "    indices, distances = find_knn(emb if target is None else target, emb,\n",
    "                                  num_neighbors=k,\n",
    "                                  metric=metric,\n",
    "                                  device=device)\n",
    "    r = np.outer(np.arange(indices.shape[0]), np.ones((1, indices.shape[1]))).astype(int)\n",
    "    r, c, distances = (r.reshape(-1),indices.astype(int).reshape(-1),distances.reshape(-1))\n",
    "    if len(r) == 0:\n",
    "        return r, c, distances \n",
    "    \n",
    "    return r, c, distances\n",
    "\n",
    "\n",
    "def find_knn(target, emb, num_neighbors, metric=\"dotsim\", device=None): \n",
    "    if metric == \"dotsim\":\n",
    "        index = faiss.IndexFlatIP(emb.shape[1]) \n",
    "    else:\n",
    "        index = faiss.IndexFlatL2(emb.shape[1]) \n",
    "    \n",
    "    if device is None:\n",
    "        index.add(emb.astype(np.float32))\n",
    "        distances, indices = index.search(target.astype(np.float32), k=num_neighbors)\n",
    "        # This line takes too long to load.\n",
    "    else: \n",
    "        try:\n",
    "            gpu_id = int(device[-1])\n",
    "            res = faiss.StandardGpuResources()\n",
    "            index = faiss.index_cpu_to_gpu(res, gpu_id, index)\n",
    "            index.add(emb.astype(np.float32))\n",
    "            distances, indices = index.search(\n",
    "                target.astype(np.float32), k=num_neighbors\n",
    "            )\n",
    "        except RuntimeError:\n",
    "            if metric == \"dotsim\":\n",
    "                index = faiss.IndexFlatIP(emb.shape[1]) \n",
    "            else:\n",
    "                index = faiss.IndexFlatL2(emb.shape[1])\n",
    "            \n",
    "            index.add(emb.astype(np.float32))\n",
    "            distances, indices = index.search(target.astype(np.float32),\n",
    "                                              k=num_neighbors)\n",
    "    return indices, distances"
   ]
  },
  {
   "cell_type": "code",
   "execution_count": 14,
   "id": "15d28d5b",
   "metadata": {},
   "outputs": [
    {
     "ename": "AttributeError",
     "evalue": "'KeyedVectors' object has no attribute 'shape'",
     "output_type": "error",
     "traceback": [
      "\u001b[0;31m---------------------------------------------------------------------------\u001b[0m",
      "\u001b[0;31mAttributeError\u001b[0m                            Traceback (most recent call last)",
      "\u001b[0;32m/var/folders/vf/kfvh73qd06g_1xbmqfc9j7gc0000gn/T/ipykernel_41572/3107834369.py\u001b[0m in \u001b[0;36m<module>\u001b[0;34m\u001b[0m\n\u001b[0;32m----> 1\u001b[0;31m \u001b[0mrpos\u001b[0m\u001b[0;34m,\u001b[0m \u001b[0mcpos\u001b[0m\u001b[0;34m,\u001b[0m \u001b[0mvpos\u001b[0m \u001b[0;34m=\u001b[0m \u001b[0mfind_knn_edges\u001b[0m\u001b[0;34m(\u001b[0m\u001b[0mwv\u001b[0m\u001b[0;34m,\u001b[0m \u001b[0mnum_neighbors\u001b[0m\u001b[0;34m=\u001b[0m\u001b[0;36m1\u001b[0m\u001b[0;34m,\u001b[0m \u001b[0mdevice\u001b[0m \u001b[0;34m=\u001b[0m \u001b[0;32mNone\u001b[0m\u001b[0;34m)\u001b[0m\u001b[0;34m\u001b[0m\u001b[0;34m\u001b[0m\u001b[0m\n\u001b[0m",
      "\u001b[0;32m/var/folders/vf/kfvh73qd06g_1xbmqfc9j7gc0000gn/T/ipykernel_41572/2966896301.py\u001b[0m in \u001b[0;36mfind_knn_edges\u001b[0;34m(emb, num_neighbors, target, metric, device)\u001b[0m\n\u001b[1;32m      3\u001b[0m                    device=None):\n\u001b[1;32m      4\u001b[0m \u001b[0;34m\u001b[0m\u001b[0m\n\u001b[0;32m----> 5\u001b[0;31m     \u001b[0mk\u001b[0m \u001b[0;34m=\u001b[0m \u001b[0mint\u001b[0m\u001b[0;34m(\u001b[0m\u001b[0mnp\u001b[0m\u001b[0;34m.\u001b[0m\u001b[0mminimum\u001b[0m\u001b[0;34m(\u001b[0m\u001b[0mnum_neighbors\u001b[0m \u001b[0;34m+\u001b[0m \u001b[0;36m1\u001b[0m\u001b[0;34m,\u001b[0m \u001b[0memb\u001b[0m\u001b[0;34m.\u001b[0m\u001b[0mshape\u001b[0m\u001b[0;34m[\u001b[0m\u001b[0;36m0\u001b[0m\u001b[0;34m]\u001b[0m\u001b[0;34m)\u001b[0m\u001b[0;34m.\u001b[0m\u001b[0mastype\u001b[0m\u001b[0;34m(\u001b[0m\u001b[0mint\u001b[0m\u001b[0;34m)\u001b[0m\u001b[0;34m)\u001b[0m\u001b[0;34m\u001b[0m\u001b[0;34m\u001b[0m\u001b[0m\n\u001b[0m\u001b[1;32m      6\u001b[0m     indices, distances = find_knn(emb if target is None else target, emb,\n\u001b[1;32m      7\u001b[0m                                   \u001b[0mnum_neighbors\u001b[0m\u001b[0;34m=\u001b[0m\u001b[0mk\u001b[0m\u001b[0;34m,\u001b[0m\u001b[0;34m\u001b[0m\u001b[0;34m\u001b[0m\u001b[0m\n",
      "\u001b[0;31mAttributeError\u001b[0m: 'KeyedVectors' object has no attribute 'shape'"
     ]
    }
   ],
   "source": [
    "rpos, cpos, vpos = find_knn_edges(wv_array, num_neighbors=1, device = None)"
   ]
  },
  {
   "cell_type": "code",
   "execution_count": 17,
   "id": "159d0fc7",
   "metadata": {},
   "outputs": [
    {
     "data": {
      "text/plain": [
       "numpy.ndarray"
      ]
     },
     "execution_count": 17,
     "metadata": {},
     "output_type": "execute_result"
    }
   ],
   "source": [
    "type(wv_array)"
   ]
  },
  {
   "cell_type": "code",
   "execution_count": null,
   "id": "49c92b9e",
   "metadata": {},
   "outputs": [],
   "source": [
    "emb = wv_array\n",
    "num_neighbors = 2\n",
    "metric = \"dotsim\"\n",
    "k = int(np.minimum(num_neighbors + 1, emb.shape[0]).astype(int))"
   ]
  },
  {
   "cell_type": "code",
   "execution_count": null,
   "id": "d7465551",
   "metadata": {},
   "outputs": [],
   "source": [
    "index = faiss.IndexFlatIP(emb.shape[1]) \n",
    "index.add(emb.astype(np.float32))\n",
    "distances, indices = index.search(emb.astype(np.float32), k=num_neighbors)\n"
   ]
  },
  {
   "cell_type": "code",
   "execution_count": null,
   "id": "4723c2e2",
   "metadata": {},
   "outputs": [],
   "source": [
    "\n",
    "\n",
    "r = np.outer(np.arange(indices.shape[0]), np.ones((1, indices.shape[1]))).astype(int)\n",
    "r, c, distances = (r.reshape(-1),indices.astype(int).reshape(-1),distances.reshape(-1))\n",
    "if len(r) == 0:\n",
    "    return r, c, distances "
   ]
  },
  {
   "cell_type": "code",
   "execution_count": null,
   "id": "631654ee",
   "metadata": {},
   "outputs": [],
   "source": [
    "cneg = np.random.choice(wv_array.shape[0], len(cpos))\n",
    "vneg = np.array(np.sum(wv_array[rpos, :] * wv_array[cneg, :], axis=1)).reshape(-1)"
   ]
  },
  {
   "cell_type": "code",
   "execution_count": null,
   "id": "45560ba5",
   "metadata": {},
   "outputs": [],
   "source": [
    "import os\n",
    "os.system('say \"Beer time.\"')"
   ]
  },
  {
   "cell_type": "code",
   "execution_count": null,
   "id": "7ce81ae3",
   "metadata": {},
   "outputs": [],
   "source": [
    "from sklearn.linear_model import LogisticRegression \n",
    "\n",
    "model = LogisticRegression()\n",
    "model.fit(\n",
    "    np.concatenate([vpos, vneg]).reshape((-1, 1)),\n",
    "    np.concatenate([np.ones_like(vpos), np.zeros_like(vneg)]),\n",
    ")\n",
    "w1, b0 = model.coef_[0, 0], -model.intercept_[0] \n",
    "print(f\"w0={w1}, b1={b0}\")"
   ]
  },
  {
   "cell_type": "code",
   "execution_count": null,
   "id": "926f9cc9",
   "metadata": {},
   "outputs": [],
   "source": [
    "import numba\n",
    "def louvain(Z, w1, b0, num_neighbors=100, iteration = 50, device = \"cuda:0\", return_member_matrix=False):\n",
    "    \"\"\"\"Louvain algorithm for vecto data\n",
    "    :param Z: embedding\n",
    "    :type Z: numpy.ndarray\n",
    "    :param w1: regression coefficient\n",
    "    :type w1: float\n",
    "    :param b0: intercept\n",
    "    :type b0: float\n",
    "    :param num_neighbors: Number of neighbors, defaults to 100\n",
    "    :type num_neighbors: int, optional\n",
    "    :param iteration: The maximum number of iterations, defaults to 50\n",
    "    :type iteration: int, optional\n",
    "    :param device: _description_, defaults to \"cuda:0\"\n",
    "    :type device: str, optional\n",
    "    :param return_member_matrix: _description_, defaults to False\n",
    "    :type return_member_matrix: bool, optional\n",
    "    :return: _description_\n",
    "    :rtype: _type_\n",
    "    \"\"\"\n",
    "    # Initialize the intermediate variables\n",
    "    num_nodes = Z.shape[0]\n",
    "    node_size = np.ones(num_nodes)\n",
    "    U = sparse.identity(num_nodes, format=\"csr\")\n",
    "    Vt = Z.copy()\n",
    "    \n",
    "    # The main loop for the Louvain algorithm\n",
    "    while True:\n",
    "        # Find the community assignment for the given graph # using a label switching algorithm\n",
    "        cids_t = label_switching(\n",
    "               Z=Vt,\n",
    "               num_neighbors=num_neighbors,\n",
    "               rho=b0/w1,\n",
    "               node_size=node_size,\n",
    "               epochs=iteration,\n",
    "               device=device,\n",
    "                )\n",
    "        \n",
    "        # This is to make the community labels continuous integer variables\n",
    "        _, cids_t = np.unique(cids_t, return_inverse=True)\n",
    "        \n",
    "        # If no merging, we are good to go out from the loop\n",
    "        if int(max(cids_t) + 1) == Vt.shape[0]: \n",
    "            break\n",
    "            \n",
    "        # If two nodes are merged, we created an aggregated network, \n",
    "        #where a node represents a community.\n",
    "        \n",
    "        num_nodes_t = len(cids_t)\n",
    "        k = int(np.max(cids_t) + 1)\n",
    "        Ut = sparse.csr_matrix((np.ones(num_nodes_t), (np.arange(num_nodes_t),␣ ,→cids_t)), shape=(num_nodes_t, k))\n",
    "        U = U @ Ut\n",
    "        Vt = Ut.T @ Vt\n",
    "        \n",
    "        node_size = np.array(Ut.T @ node_size).reshape(-1)\n",
    "    if return_member_matrix: \n",
    "        return U\n",
    "    cids = np.array((U @ sparse.diags(np.arange(U.shape[1]))).sum(axis=1)).reshape(-1)\n",
    "\n",
    "    return cids\n",
    "\n",
    "#\n",
    "# Clustering based on a label switching algorithm\n",
    "#\n",
    "def label_switching(Z, rho, num_neighbors=50, node_size=None, device=None,epochs=50):\n",
    "    num_nodes, dim = Z.shape\n",
    "    if node_size is None:\n",
    "        node_size = np.ones(num_nodes)\n",
    "    Z = Z.copy(order=\"C\").astype(np.float32)\n",
    "    # Construct the candidate graph\n",
    "    Z1 = np.hstack([Z, np.ones((num_nodes, 1))])\n",
    "    Zrho = np.hstack([Z, -rho * node_size.reshape((-1, 1))])\n",
    "\n",
    "    r, c, v = find_knn_edges(\n",
    "        Zrho,\n",
    "        target=Z1,\n",
    "        num_neighbors=num_neighbors,\n",
    "        metric=\"cosine\",\n",
    "        device=device)\n",
    "    A = sparse.csr_matrix((v, (r, c)), shape=(num_nodes, num_nodes))\n",
    "    \n",
    "    return _label_switching_(\n",
    "        A_indptr=A.indptr,\n",
    "        A_indices=A.indices,\n",
    "        Z=Z,\n",
    "        num_nodes=num_nodes,\n",
    "        rho=rho,\n",
    "        node_size=node_size,\n",
    "        epochs=epochs)\n",
    "\n",
    "#@numba.jit(nopython=True, cache=True)\n",
    "def _label_switching_(A_indptr, A_indices, Z, num_nodes, rho, node_size,epochs=100):\n",
    "    Nc = np.zeros(num_nodes)\n",
    "    cids = np.arange(num_nodes)\n",
    "    Vc = Z.copy()\n",
    "    Vnorm = np.sum(np.multiply(Z, Z), axis=1).reshape(-1) \n",
    "    for nid in range(num_nodes):\n",
    "            Nc[nid] += node_size[nid]\n",
    "    for _it in range(epochs):\n",
    "        order = np.random.choice(num_nodes, size=num_nodes, replace=False) \n",
    "        updated_node_num = 0\n",
    "        \n",
    "    for _k, node_id in enumerate(order):\n",
    "                # Get the weight and normalized weight\n",
    "                neighbors = A_indices[A_indptr[node_id] : A_indptr[node_id + 1]]\n",
    "                \n",
    "                # Calculate the grain\n",
    "                c = cids[node_id]\n",
    "                clist = np.unique(cids[neighbors])\n",
    "                next_cid = -1\n",
    "                dqmax = 0\n",
    "                qself = (\n",
    "                    np.sum(Z[node_id, :] * Vc[c, :])\n",
    "                    - Vnorm[node_id]\n",
    "                    - rho * node_size[node_id] * (Nc[c] - node_size[node_id])\n",
    "    )\n",
    "        for cprime in clist:\n",
    "            if c == cprime: \n",
    "                continue\n",
    "            dq = (np.sum(Z[node_id, :] * Vc[cprime, :])\n",
    "                    - rho * node_size[node_id] * Nc[cprime]) - qself\n",
    "            if dqmax < dq:\n",
    "                next_cid = cprime\n",
    "                dqmax = dq\n",
    "        if dqmax <= 1e-16: \n",
    "            continue\n",
    "            \n",
    "        Nc[c] -= node_size[node_id]\n",
    "        Nc[next_cid] += node_size[node_id]\n",
    "        \n",
    "        Vc[c, :] -= Z[node_id, :]\n",
    "        Vc[next_cid, :] += Z[node_id, :]\n",
    "        \n",
    "        cids[node_id] = next_cid\n",
    "        updated_node_num += 1\n",
    "        \n",
    "    if (updated_node_num / np.maximum(1, num_nodes)) < 1e-3: \n",
    "        break\n",
    "    return cids\n",
    "\n",
    "gs = louvain(emb, w1, b0, device = \"cuda:0\")"
   ]
  },
  {
   "cell_type": "code",
   "execution_count": null,
   "id": "bba28d31",
   "metadata": {},
   "outputs": [],
   "source": [
    "score_proposed = calc_esim(node_table[\"membership\"], gs) \n",
    "print(f\"Element-centric similarity:\")\n",
    "print(f\"Proposed: {score_proposed}\")"
   ]
  }
 ],
 "metadata": {
  "kernelspec": {
   "display_name": "venv",
   "language": "python",
   "name": "venv"
  },
  "language_info": {
   "codemirror_mode": {
    "name": "ipython",
    "version": 3
   },
   "file_extension": ".py",
   "mimetype": "text/x-python",
   "name": "python",
   "nbconvert_exporter": "python",
   "pygments_lexer": "ipython3",
   "version": "3.9.13"
  }
 },
 "nbformat": 4,
 "nbformat_minor": 5
}
