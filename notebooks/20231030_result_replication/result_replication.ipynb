{
 "cells": [
  {
   "cell_type": "code",
   "execution_count": 1,
   "metadata": {},
   "outputs": [],
   "source": [
    "import sys\n",
    "import numpy as np\n",
    "from scipy import sparse\n",
    "import pandas as pd\n",
    "import networkx as nx\n",
    "import gensim\n",
    "import matplotlib.pyplot as plt\n",
    "import seaborn as sns\n",
    "from sklearn.cluster import KMeans \n",
    "from sklearn.cluster import OPTICS, DBSCAN\n",
    "from fastnode2vec import Graph, Node2Vec\n",
    "import faiss\n",
    "import lfr\n",
    "import embcom"
   ]
  },
  {
   "cell_type": "code",
   "execution_count": null,
   "metadata": {},
   "outputs": [],
   "source": [
    "# Install a conda package in the current Jupyter kernel\n",
    "#import sys\n",
    "#!conda install --yes --prefix {sys.prefix} fastnode2vec\n",
    "#!echo $PATH\n"
   ]
  },
  {
   "cell_type": "code",
   "execution_count": 2,
   "metadata": {},
   "outputs": [],
   "source": [
    "params = {\n",
    "    \"N\": 1000,     # number of nodes\n",
    "    \"k\": 50,       # average degree\n",
    "    \"maxk\": 1000,   # maximum degree sqrt(10*N)\n",
    "    \"minc\": 50,    # minimum community size\n",
    "    \"maxc\": 1000,   # maximum community size sqrt(10*N)\n",
    "    \"tau\": 3.0,    # degree exponent\n",
    "    \"tau2\": 1.2,   # community size exponent\n",
    "    \"mu\": 0.2,     # mixing rate\n",
    "}"
   ]
  },
  {
   "cell_type": "code",
   "execution_count": 8,
   "metadata": {},
   "outputs": [
    {
     "name": "stdout",
     "output_type": "stream",
     "text": [
      "667 3\n"
     ]
    }
   ],
   "source": [
    "ng = lfr.NetworkGenerator()\n",
    "data = ng.generate(**params)\n",
    "\n",
    "net = data[\"net\"]                  # scipy.csr_sparse matrix\n",
    "community_table = data[\"community_table\"]  # pandas DataFrame\n",
    "seed = data[\"seed\"]           # Seed value\n",
    "\n",
    "print(seed, len(set(community_table['community_id'])))"
   ]
  },
  {
   "cell_type": "code",
   "execution_count": 7,
   "metadata": {},
   "outputs": [
    {
     "data": {
      "text/html": [
       "<div>\n",
       "<style scoped>\n",
       "    .dataframe tbody tr th:only-of-type {\n",
       "        vertical-align: middle;\n",
       "    }\n",
       "\n",
       "    .dataframe tbody tr th {\n",
       "        vertical-align: top;\n",
       "    }\n",
       "\n",
       "    .dataframe thead th {\n",
       "        text-align: right;\n",
       "    }\n",
       "</style>\n",
       "<table border=\"1\" class=\"dataframe\">\n",
       "  <thead>\n",
       "    <tr style=\"text-align: right;\">\n",
       "      <th></th>\n",
       "      <th>node_id</th>\n",
       "      <th>community_id</th>\n",
       "    </tr>\n",
       "  </thead>\n",
       "  <tbody>\n",
       "    <tr>\n",
       "      <th>0</th>\n",
       "      <td>0</td>\n",
       "      <td>1</td>\n",
       "    </tr>\n",
       "    <tr>\n",
       "      <th>1</th>\n",
       "      <td>1</td>\n",
       "      <td>2</td>\n",
       "    </tr>\n",
       "    <tr>\n",
       "      <th>2</th>\n",
       "      <td>2</td>\n",
       "      <td>1</td>\n",
       "    </tr>\n",
       "    <tr>\n",
       "      <th>3</th>\n",
       "      <td>3</td>\n",
       "      <td>1</td>\n",
       "    </tr>\n",
       "    <tr>\n",
       "      <th>4</th>\n",
       "      <td>4</td>\n",
       "      <td>2</td>\n",
       "    </tr>\n",
       "    <tr>\n",
       "      <th>...</th>\n",
       "      <td>...</td>\n",
       "      <td>...</td>\n",
       "    </tr>\n",
       "    <tr>\n",
       "      <th>995</th>\n",
       "      <td>995</td>\n",
       "      <td>2</td>\n",
       "    </tr>\n",
       "    <tr>\n",
       "      <th>996</th>\n",
       "      <td>996</td>\n",
       "      <td>2</td>\n",
       "    </tr>\n",
       "    <tr>\n",
       "      <th>997</th>\n",
       "      <td>997</td>\n",
       "      <td>2</td>\n",
       "    </tr>\n",
       "    <tr>\n",
       "      <th>998</th>\n",
       "      <td>998</td>\n",
       "      <td>2</td>\n",
       "    </tr>\n",
       "    <tr>\n",
       "      <th>999</th>\n",
       "      <td>999</td>\n",
       "      <td>2</td>\n",
       "    </tr>\n",
       "  </tbody>\n",
       "</table>\n",
       "<p>1000 rows × 2 columns</p>\n",
       "</div>"
      ],
      "text/plain": [
       "     node_id  community_id\n",
       "0          0             1\n",
       "1          1             2\n",
       "2          2             1\n",
       "3          3             1\n",
       "4          4             2\n",
       "..       ...           ...\n",
       "995      995             2\n",
       "996      996             2\n",
       "997      997             2\n",
       "998      998             2\n",
       "999      999             2\n",
       "\n",
       "[1000 rows x 2 columns]"
      ]
     },
     "execution_count": 7,
     "metadata": {},
     "output_type": "execute_result"
    }
   ],
   "source": []
  },
  {
   "cell_type": "code",
   "execution_count": 16,
   "metadata": {},
   "outputs": [],
   "source": [
    "window_length = 10\n",
    "walk_length = 80 # Standard\n",
    "\n",
    "num_walks = 10 # Standard\n",
    "dim = 64"
   ]
  },
  {
   "cell_type": "code",
   "execution_count": 17,
   "metadata": {},
   "outputs": [],
   "source": [
    "model = embcom.embeddings.Node2Vec(window_length, walk_length, num_walks)\n",
    "\n",
    "model.fit(net)\n",
    "\n",
    "emb = model.transform(dim=dim)"
   ]
  },
  {
   "cell_type": "code",
   "execution_count": 6,
   "metadata": {},
   "outputs": [],
   "source": [
    "#seed = 27\n",
    "file_name = f\"LFR_n_{params['N']}_tau1_{params['tau']}_tau2_{params['tau2']}_mu_{params['mu']}_k_{params['k']}_mincomm_{params['minc']}_seed_{seed}\"\n",
    "path_name = \"/nobackup/gogandhi/kmeans/data/\"\n",
    "embedding_name = f\"sadamori_node2vec_window_length_{window_length}_dim_{dim}\""
   ]
  },
  {
   "cell_type": "code",
   "execution_count": 35,
   "metadata": {},
   "outputs": [],
   "source": [
    "\n",
    "#sparse.save_npz(path_name+\"net_\"+file_name + \".npz\" ,net) \n",
    "#np.savez_compressed(path_name+\"community_table_\"+file_name+ \".npz\",community_table)\n",
    "#community_table.to_csv(path_name+\"community_table_\"+file_name+ \".npz\",index=False)\n",
    "#np.savez_compressed(path_name+\"emb_\"+file_name + embedding_name+ \".npz\",emb = emb)\n"
   ]
  },
  {
   "cell_type": "code",
   "execution_count": 7,
   "metadata": {},
   "outputs": [],
   "source": [
    "net = sparse.load_npz(path_name+\"net_\"+file_name + \".npz\")\n",
    "community_table = pd.read_csv(path_name+\"community_table_\"+file_name+ \".npz\")\n",
    "emb = np.load(path_name+\"emb_\"+file_name + embedding_name+ \".npz\")['emb']"
   ]
  },
  {
   "cell_type": "code",
   "execution_count": null,
   "metadata": {},
   "outputs": [],
   "source": [
    "# Don't use Networkx since it doesn't recreate LFR accurately - Sadamori\n",
    "\n",
    "\"\"\"\n",
    "# Create a NetworkX graph\n",
    "n = 100000\n",
    "tau1 = 3 # Power law exponent determining degree of nodes\n",
    "tau2 = 1.5 # Power law exponent of function that generates community sizes\n",
    "mu = 0.2\n",
    "min_community=70\n",
    "seed=42\n",
    "avg_deg = 50\n",
    "#!TODO:\n",
    "#if Graph exists:\n",
    "#    load\n",
    "#else:\n",
    "#    G = \n",
    "G = nx.LFR_benchmark_graph(n, tau1, tau2, mu, average_degree=avg_deg, min_community=min_community, seed=seed)\n",
    "print(G)\n",
    "#nx.write_graphml(G, f\"/data/LFR_n_{n}_tau1_{tau1}_tau2_{tau2}_mu_{mu}_k_{avg_deg}_mincomm_{min_community}_seed_{seed}.graphml\")\n",
    "\n",
    "\"\"\""
   ]
  },
  {
   "cell_type": "code",
   "execution_count": 17,
   "metadata": {},
   "outputs": [
    {
     "name": "stderr",
     "output_type": "stream",
     "text": [
      "                                                                                                                         \r"
     ]
    }
   ],
   "source": [
    "# This has Rejection Sampling, so we use negative sampling node2vec\n",
    "\"\"\"\n",
    "# Create a Fastnode2vec Graph\n",
    "fastnode2vec_graph = Graph(list(G.edges()), directed = False, weighted = False)\n",
    "\"\"\""
   ]
  },
  {
   "cell_type": "code",
   "execution_count": null,
   "metadata": {},
   "outputs": [],
   "source": [
    "#print(f\"LFR_n_{n}_tau1_{tau1}_tau2_{tau2}_mu_{mu}_k_5_mincomm_{min_community}_seed_{seed}\")"
   ]
  },
  {
   "cell_type": "markdown",
   "metadata": {},
   "source": [
    "We need a coherent list of community labels, since community of node 1 gives a set of all elements node 1 belongs alongside in a community"
   ]
  },
  {
   "cell_type": "code",
   "execution_count": 18,
   "metadata": {},
   "outputs": [],
   "source": [
    "\"\"\"comm_dict = nx.get_node_attributes(G,\"community\")\n",
    "comm_dict = list(comm_dict.values())\n",
    "# Sample list with sets\n",
    "\n",
    "# Get unique sets\n",
    "unique_sets = list(set(tuple(s) for s in comm_dict))\n",
    "# Convert the unique sets back to a list of sets\n",
    "unique_list_of_sets = [set(s) for s in unique_sets]\n",
    "\"\"\""
   ]
  },
  {
   "cell_type": "code",
   "execution_count": 9,
   "metadata": {},
   "outputs": [],
   "source": [
    "\"\"\"node_to_comm_mapping = {}\n",
    "\n",
    "for node in list(G.nodes()):\n",
    "    for set_index, current_set in enumerate(unique_list_of_sets):\n",
    "\n",
    "        if node in current_set:\n",
    "            node_to_comm_mapping[node] = set_index+1\n",
    "membership = np.array(list(node_to_comm_mapping.values()))\n",
    "\"\"\"\n",
    "\n"
   ]
  },
  {
   "cell_type": "code",
   "execution_count": 19,
   "metadata": {},
   "outputs": [
    {
     "data": {
      "text/plain": [
       "{1, 2, 3}"
      ]
     },
     "execution_count": 19,
     "metadata": {},
     "output_type": "execute_result"
    }
   ],
   "source": []
  },
  {
   "cell_type": "code",
   "execution_count": 18,
   "metadata": {},
   "outputs": [
    {
     "data": {
      "image/png": "[encoded data removed]",
      "text/plain": [
       "<Figure size 640x480 with 1 Axes>"
      ]
     },
     "metadata": {},
     "output_type": "display_data"
    }
   ],
   "source": [
    "groups = community_table.groupby('community_id')\n",
    "# Create a histogram of the element lengths\n",
    "plt.hist(groups.count(), bins=30, edgecolor='black', alpha=0.7)\n",
    "\n",
    "# Set plot labels and title\n",
    "plt.xlabel('Cluster Size')\n",
    "plt.ylabel('Count')\n",
    "plt.title('Cluster Size Distribution in LFR Graph')\n",
    "\n",
    "# Show the histogram\n",
    "plt.show()"
   ]
  },
  {
   "cell_type": "code",
   "execution_count": 12,
   "metadata": {},
   "outputs": [
    {
     "data": {
      "text/plain": [
       "'n2v = Node2Vec(fastnode2vec_graph, dim=64, walk_length=100, window=10, p=2.0, q=0.5, workers=15)\\n\\nn2v.train(epochs=100)\\n\\nprint(n2v.wv[0])\\nn2v.wv.save(f\"/data/LFR_n_{n}_tau1_{tau1}_tau2_{tau2}_mu_{mu}_k_5_mincomm_{min_community}_seed_{seed}.txt.gz.wv\")\\n'"
      ]
     },
     "execution_count": 12,
     "metadata": {},
     "output_type": "execute_result"
    }
   ],
   "source": [
    "\"\"\"n2v = Node2Vec(fastnode2vec_graph, dim=64, walk_length=100, window=10, p=2.0, q=0.5, workers=15)\n",
    "\n",
    "n2v.train(epochs=100)\n",
    "\n",
    "print(n2v.wv[0])\n",
    "n2v.wv.save(f\"/data/LFR_n_{n}_tau1_{tau1}_tau2_{tau2}_mu_{mu}_k_5_mincomm_{min_community}_seed_{seed}.txt.gz.wv\")\n",
    "\"\"\""
   ]
  },
  {
   "cell_type": "code",
   "execution_count": 13,
   "metadata": {},
   "outputs": [
    {
     "data": {
      "text/plain": [
       "'from gensim.models import KeyedVectors\\n\\n#wv = KeyedVectors.load(\"/data/LFR_n_10000_tau1_3_tau2_1.5_mu_0.2_k_5_mincomm_25_seed_10.txt.gz.wv\", mmap=\\'r\\')\\nwv = KeyedVectors.load((f\"/data/LFR_n_{n}_tau1_{tau1}_tau2_{tau2}_mu_{mu}_k_5_mincomm_{min_community}_seed_{seed}.txt.gz.wv\"), mmap=\\'r\\')\\n\\nlen(wv), len(wv[0]), len(unique_list_of_sets)\\n'"
      ]
     },
     "execution_count": 13,
     "metadata": {},
     "output_type": "execute_result"
    }
   ],
   "source": [
    "# To Load Embeddings:\n",
    "\"\"\"from gensim.models import KeyedVectors\n",
    "\n",
    "#wv = KeyedVectors.load(\"/data/LFR_n_10000_tau1_3_tau2_1.5_mu_0.2_k_5_mincomm_25_seed_10.txt.gz.wv\", mmap='r')\n",
    "wv = KeyedVectors.load((f\"/data/LFR_n_{n}_tau1_{tau1}_tau2_{tau2}_mu_{mu}_k_5_mincomm_{min_community}_seed_{seed}.txt.gz.wv\"), mmap='r')\n",
    "\n",
    "len(wv), len(wv[0]), len(unique_list_of_sets)\n",
    "\"\"\""
   ]
  },
  {
   "cell_type": "markdown",
   "metadata": {},
   "source": [
    "## Reproducing results"
   ]
  },
  {
   "cell_type": "code",
   "execution_count": 20,
   "metadata": {},
   "outputs": [],
   "source": [
    "# Need net, node_table and emb files\n",
    "# net is G, emb files are wv, node_table probably\n",
    "# has some info about ground truth community labels or smth like that.\n",
    "\n",
    "# Define a function that calculates element-centric similarity:\n",
    "def calc_esim(y, ypred):\n",
    "\n",
    "    ylab, y = np.unique(y, return_inverse=True)\n",
    "    ypredlab, ypred = np.unique(ypred, return_inverse=True)\n",
    "    \n",
    "    Ka, Kb = len(ylab), len(ypredlab)\n",
    "    K = np.maximum(Ka, Kb)\n",
    "    N = len(y)\n",
    "    \n",
    "    UA = sparse.csr_matrix((np.ones_like(y), (np.arange(y.size), y)), shape=(N,K))\n",
    "    UB = sparse.csr_matrix((np.ones_like(ypred), (np.arange(ypred.size), ypred)), shape=(N, K))    \n",
    "    \n",
    "    nA = np.array(UA.sum(axis=0)).reshape(-1)\n",
    "    nB = np.array(UB.sum(axis=0)).reshape(-1)\n",
    "\n",
    "# nAB[i][j] is read as the number of elements that belong to ith ground truth label and jth predicrted label.\n",
    "# nAB[1][0] = 1 For ground truth label with index 1 and predicted label 0 we have 1 element. i.e. 0000|1| vs 1110|0|\n",
    "\n",
    "    nAB = (UA.T @ UB).toarray()\n",
    "    nAB_rand = np.outer(nA, nB) / N\n",
    "    \n",
    "# assuming that each element has an equal probability of being assigned to any label,\n",
    "# and the expected counts are calculated based on label frequencies.\n",
    "\n",
    "\n",
    "    # Calc element-centric similarity\n",
    "    Q = np.maximum(nA[:, None] @ np.ones((1, K)), np.ones((K, 1)) @ nB[None, :]) \n",
    "    Q = 1 / np.maximum(Q, 1)\n",
    "    S = np.sum(np.multiply(Q, (nAB**2))) / N\n",
    "    \n",
    "    # Calc the expected element-centric similarity for random partitions\n",
    "    Q = np.maximum(nA[:, None] @ np.ones((1, K)), np.ones((K, 1)) @ nB[None, :]) \n",
    "    Q = 1 / np.maximum(Q, 1)\n",
    "    Srand = np.sum(np.multiply(Q, (nAB_rand**2))) / N\n",
    "    Scorrected = (S - Srand) / (1 - Srand)\n",
    "    return Scorrected\n"
   ]
  },
  {
   "cell_type": "code",
   "execution_count": 21,
   "metadata": {},
   "outputs": [
    {
     "name": "stderr",
     "output_type": "stream",
     "text": [
      "/nobackup/gogandhi/miniconda3/envs/kmeans_env/lib/python3.9/site-packages/sklearn/cluster/_kmeans.py:1416: FutureWarning: The default value of `n_init` will change from 10 to 'auto' in 1.4. Set the value of `n_init` explicitly to suppress the warning\n",
      "  super()._check_params_vs_input(X, default_n_init=10)\n"
     ]
    },
    {
     "name": "stdout",
     "output_type": "stream",
     "text": [
      "Element-centric similarity:\n",
      "K-means: 1.0\n",
      "DBSCAN: 0.19087314858728066\n",
      "OPTICS: 0.24290083673363666\n"
     ]
    }
   ],
   "source": [
    "#wv_array = np.vstack([wv[node] for node in list(G.nodes())])\n",
    "\n",
    "# Normalize the vector of each node to have unit length. This normalization improves clustering.\n",
    "X = np.einsum(\"ij,i->ij\", emb, 1 / np.maximum(np.linalg.norm(emb, axis=1), 1e-24))\n",
    "X = emb.copy()\n",
    "# Clustering\n",
    "kmeans = KMeans(n_clusters= len(set(community_table[\"community_id\"])), random_state=0).fit(X)\n",
    "dbscan = DBSCAN().fit(X)\n",
    "optics = OPTICS().fit(X)\n",
    "\n",
    "# Evaluate the clustering\n",
    "score_kmeans = calc_esim(community_table[\"community_id\"], kmeans.labels_)\n",
    "score_dbscan = calc_esim(community_table[\"community_id\"], dbscan.labels_)\n",
    "score_optics = calc_esim(community_table[\"community_id\"], optics.labels_)\n",
    "\n",
    "print(f\"Element-centric similarity:\") \n",
    "print(f\"K-means: {score_kmeans}\")\n",
    "print(f\"DBSCAN: {score_dbscan}\") # Something Wrong\n",
    "print(f\"OPTICS: {score_optics}\") # Something Wrong"
   ]
  },
  {
   "cell_type": "markdown",
   "metadata": {},
   "source": [
    "### The cluster size distribution is right skewed and fat tailed. (N/A for N=1000)\n",
    "Many communities are small (<40) but large ones exist too. The K means does detect some communities of higher size. Maybe the order of magnitude is not sufficiently large, but still not perfectly of course.  \n",
    "(#TODO: Increase order of magnitude by 1)"
   ]
  },
  {
   "cell_type": "code",
   "execution_count": 12,
   "metadata": {},
   "outputs": [],
   "source": [
    "def find_knn_edges(emb, num_neighbors, \n",
    "                   target=None, metric=\"dotsim\",\n",
    "                   device=None):\n",
    "    \n",
    "    k = int(np.minimum(num_neighbors + 1, emb.shape[0]).astype(int))\n",
    "    indices, distances = find_knn(emb if target is None else target, emb,\n",
    "                                  num_neighbors=k,\n",
    "                                  metric=metric,\n",
    "                                  device=device)\n",
    "    r = np.outer(np.arange(indices.shape[0]), np.ones((1, indices.shape[1]))).astype(int)\n",
    "    r, c, distances = (r.reshape(-1),indices.astype(int).reshape(-1),distances.reshape(-1))\n",
    "    if len(r) == 0:\n",
    "        return r, c, distances \n",
    "    \n",
    "    return r, c, distances\n",
    "\n",
    "\n",
    "def find_knn(target, emb, num_neighbors, metric=\"dotsim\", device=None): \n",
    "    if metric == \"dotsim\":\n",
    "        index = faiss.IndexFlatIP(emb.shape[1]) \n",
    "    else:\n",
    "        index = faiss.IndexFlatL2(emb.shape[1]) \n",
    "    \n",
    "    if device is None:\n",
    "        index.add(emb.astype(np.float32))\n",
    "        distances, indices = index.search(target.astype(np.float32), k=num_neighbors)\n",
    "        # This line takes too long to load.\n",
    "    else: \n",
    "        try:\n",
    "            gpu_id = int(device[-1])\n",
    "            res = faiss.StandardGpuResources()\n",
    "            index = faiss.index_cpu_to_gpu(res, gpu_id, index)\n",
    "            index.add(emb.astype(np.float32))\n",
    "            distances, indices = index.search(\n",
    "                target.astype(np.float32), k=num_neighbors\n",
    "            )\n",
    "        except RuntimeError:\n",
    "            if metric == \"dotsim\":\n",
    "                index = faiss.IndexFlatIP(emb.shape[1]) \n",
    "            else:\n",
    "                index = faiss.IndexFlatL2(emb.shape[1])\n",
    "            \n",
    "            index.add(emb.astype(np.float32))\n",
    "            distances, indices = index.search(target.astype(np.float32),\n",
    "                                              k=num_neighbors)\n",
    "    return indices, distances"
   ]
  },
  {
   "cell_type": "code",
   "execution_count": 28,
   "metadata": {},
   "outputs": [
    {
     "data": {
      "text/plain": [
       "'\\n\\nimport pynvml\\n\\ndef find_gpu_id():\\n    pynvml.nvmlInit()\\n    num_gpus = pynvml.nvmlDeviceGetCount()\\n    \\n    gpu_info = []\\n    for i in range(num_gpus):\\n        handle = pynvml.nvmlDeviceGetHandleByIndex(i)\\n        name = pynvml.nvmlDeviceGetName(handle)\\n        gpu_info.append(f\"GPU {i}: {name}\")\\n    \\n    pynvml.nvmlShutdown()\\n    \\n    return gpu_info\\n\\nif __name__ == \"__main__\":\\n    gpu_info = find_gpu_id()\\n    for info in gpu_info:\\n        print(info)\\n'"
      ]
     },
     "execution_count": 28,
     "metadata": {},
     "output_type": "execute_result"
    }
   ],
   "source": [
    "#If you want to find the GPU IDs. But I recommend gpustat on terminal to see live usage.\n",
    "'''\n",
    "\n",
    "import pynvml\n",
    "\n",
    "def find_gpu_id():\n",
    "    pynvml.nvmlInit()\n",
    "    num_gpus = pynvml.nvmlDeviceGetCount()\n",
    "    \n",
    "    gpu_info = []\n",
    "    for i in range(num_gpus):\n",
    "        handle = pynvml.nvmlDeviceGetHandleByIndex(i)\n",
    "        name = pynvml.nvmlDeviceGetName(handle)\n",
    "        gpu_info.append(f\"GPU {i}: {name}\")\n",
    "    \n",
    "    pynvml.nvmlShutdown()\n",
    "    \n",
    "    return gpu_info\n",
    "\n",
    "if __name__ == \"__main__\":\n",
    "    gpu_info = find_gpu_id()\n",
    "    for info in gpu_info:\n",
    "        print(info)\n",
    "'''"
   ]
  },
  {
   "cell_type": "code",
   "execution_count": 13,
   "metadata": {},
   "outputs": [],
   "source": [
    "rpos, cpos, vpos = find_knn_edges(emb, num_neighbors=100, device = \"cuda:3\")\n",
    "cneg = np.random.choice(emb.shape[0], len(cpos))\n",
    "vneg = np.array(np.sum(emb[rpos, :] * emb[cneg, :], axis=1)).reshape(-1)"
   ]
  },
  {
   "cell_type": "code",
   "execution_count": 30,
   "metadata": {},
   "outputs": [],
   "source": [
    "#import os\n",
    "#os.system('say \"Beer time.\"')"
   ]
  },
  {
   "cell_type": "code",
   "execution_count": 14,
   "metadata": {},
   "outputs": [
    {
     "name": "stdout",
     "output_type": "stream",
     "text": [
      "w0=2.8579081751172253, b1=15.855637985613585\n"
     ]
    }
   ],
   "source": [
    "from sklearn.linear_model import LogisticRegression \n",
    "\n",
    "model = LogisticRegression()\n",
    "model.fit(\n",
    "    np.concatenate([vpos, vneg]).reshape((-1, 1)),\n",
    "    np.concatenate([np.ones_like(vpos), np.zeros_like(vneg)]),\n",
    ")\n",
    "w1, b0 = model.coef_[0, 0], -model.intercept_[0] \n",
    "print(f\"w0={w1}, b1={b0}\")"
   ]
  },
  {
   "cell_type": "code",
   "execution_count": 15,
   "metadata": {},
   "outputs": [],
   "source": [
    "import numba\n",
    "\n",
    "def louvain(Z, w1, b0, num_neighbors=100, iteration = 50, device = \"cuda:0\", return_member_matrix=False):\n",
    "    \"\"\"\"Louvain algorithm for vecto data\n",
    "    :param Z: embedding\n",
    "    :type Z: numpy.ndarray\n",
    "    :param w1: regression coefficient\n",
    "    :type w1: float\n",
    "    :param b0: intercept\n",
    "    :type b0: float\n",
    "    :param num_neighbors: Number of neighbors, defaults to 100\n",
    "    :type num_neighbors: int, optional\n",
    "    :param iteration: The maximum number of iterations, defaults to 50\n",
    "    :type iteration: int, optional\n",
    "    :param device: _description_, defaults to \"cuda:0\"\n",
    "    :type device: str, optional\n",
    "    :param return_member_matrix: _description_, defaults to False\n",
    "    :type return_member_matrix: bool, optional\n",
    "    :return: _description_\n",
    "    :rtype: _type_\n",
    "    \"\"\"\n",
    "    # Initialize the intermediate variables\n",
    "    num_nodes = Z.shape[0]\n",
    "    node_size = np.ones(num_nodes)\n",
    "    U = sparse.identity(num_nodes, format=\"csr\")\n",
    "    Vt = Z.copy()\n",
    "    \n",
    "    # The main loop for the Louvain algorithm\n",
    "    while True:\n",
    "        # Find the community assignment for the given graph # using a label switching algorithm\n",
    "        cids_t = label_switching(\n",
    "               Z=Vt,\n",
    "               num_neighbors=num_neighbors,\n",
    "               rho=b0/w1,\n",
    "               node_size=node_size,\n",
    "               epochs=iteration,\n",
    "               device=device,\n",
    "                )\n",
    "        \n",
    "        # This is to make the community labels continuous integer variables\n",
    "        _, cids_t = np.unique(cids_t, return_inverse=True)\n",
    "        \n",
    "        # If no merging, we are good to go out from the loop\n",
    "        if int(max(cids_t) + 1) == Vt.shape[0]: \n",
    "            break\n",
    "            \n",
    "        # If two nodes are merged, we created an aggregated network, \n",
    "        #where a node represents a community.\n",
    "        \n",
    "        num_nodes_t = len(cids_t)\n",
    "        k = int(np.max(cids_t) + 1)\n",
    "        Ut = sparse.csr_matrix((np.ones(num_nodes_t), (np.arange(num_nodes_t), cids_t)), shape=(num_nodes_t, k))\n",
    "        U = U @ Ut\n",
    "        Vt = Ut.T @ Vt\n",
    "        \n",
    "        node_size = np.array(Ut.T @ node_size).reshape(-1)\n",
    "    if return_member_matrix: \n",
    "        return U\n",
    "    cids = np.array((U @ sparse.diags(np.arange(U.shape[1]))).sum(axis=1)).reshape(-1)\n",
    "\n",
    "    return cids\n",
    "\n",
    "#\n",
    "# Clustering based on a label switching algorithm\n",
    "#\n",
    "def label_switching(Z, rho, num_neighbors=50, node_size=None, device=None,epochs=50):\n",
    "    num_nodes, dim = Z.shape\n",
    "    if node_size is None:\n",
    "        node_size = np.ones(num_nodes)\n",
    "    Z = Z.copy(order=\"C\").astype(np.float32)\n",
    "    # Construct the candidate graph\n",
    "    Z1 = np.hstack([Z, np.ones((num_nodes, 1))])\n",
    "    Zrho = np.hstack([Z, -rho * node_size.reshape((-1, 1))])\n",
    "\n",
    "    r, c, v = find_knn_edges(\n",
    "        Zrho,\n",
    "        target=Z1,\n",
    "        num_neighbors=num_neighbors,\n",
    "        metric=\"cosine\",\n",
    "        device=device)\n",
    "    A = sparse.csr_matrix((v, (r, c)), shape=(num_nodes, num_nodes))\n",
    "    \n",
    "    return _label_switching_(\n",
    "        A_indptr=A.indptr,\n",
    "        A_indices=A.indices,\n",
    "        Z=Z,\n",
    "        num_nodes=num_nodes,\n",
    "        rho=rho,\n",
    "        node_size=node_size,\n",
    "        epochs=epochs)\n",
    "\n",
    "#@numba.jit(nopython=True, cache=True)\n",
    "def _label_switching_(A_indptr, A_indices, Z, num_nodes, rho, node_size,epochs=100):\n",
    "    Nc = np.zeros(num_nodes)\n",
    "    cids = np.arange(num_nodes)\n",
    "    Vc = Z.copy()\n",
    "    Vnorm = np.sum(np.multiply(Z, Z), axis=1).reshape(-1) \n",
    "    for nid in range(num_nodes):\n",
    "            Nc[nid] += node_size[nid]\n",
    "    for _it in range(epochs):\n",
    "        order = np.random.choice(num_nodes, size=num_nodes, replace=False) \n",
    "        updated_node_num = 0\n",
    "        \n",
    "        for _k, node_id in enumerate(order):\n",
    "            # Get the weight and normalized weight\n",
    "            neighbors = A_indices[A_indptr[node_id] : A_indptr[node_id + 1]]\n",
    "\n",
    "            # Calculate the grain\n",
    "            c = cids[node_id]\n",
    "            clist = np.unique(cids[neighbors])\n",
    "            next_cid = -1\n",
    "            dqmax = 0\n",
    "            qself = (\n",
    "                np.sum(Z[node_id, :] * Vc[c, :])\n",
    "                - Vnorm[node_id]\n",
    "                - rho * node_size[node_id] * (Nc[c] - node_size[node_id]))\n",
    "\n",
    "            for cprime in clist:\n",
    "                if c == cprime: \n",
    "                    continue\n",
    "                dq = (np.sum(Z[node_id, :] * Vc[cprime, :])\n",
    "                        - rho * node_size[node_id] * Nc[cprime]) - qself\n",
    "                if dqmax < dq:\n",
    "                    next_cid = cprime\n",
    "                    dqmax = dq\n",
    "            if dqmax <= 1e-16: \n",
    "                continue\n",
    "\n",
    "            Nc[c] -= node_size[node_id]\n",
    "            Nc[next_cid] += node_size[node_id]\n",
    "\n",
    "            Vc[c, :] -= Z[node_id, :]\n",
    "            Vc[next_cid, :] += Z[node_id, :]\n",
    "\n",
    "            cids[node_id] = next_cid\n",
    "            updated_node_num += 1\n",
    "\n",
    "        if (updated_node_num / np.maximum(1, num_nodes)) < 1e-3: \n",
    "            break\n",
    "    return cids"
   ]
  },
  {
   "cell_type": "code",
   "execution_count": 16,
   "metadata": {},
   "outputs": [],
   "source": [
    "gs = louvain(emb, w1, b0, device = \"cuda:3\")\n",
    "score_proposed = calc_esim(community_table[\"community_id\"], gs)"
   ]
  },
  {
   "cell_type": "code",
   "execution_count": 18,
   "metadata": {},
   "outputs": [
    {
     "name": "stdout",
     "output_type": "stream",
     "text": [
      "Element-centric similarity:\n",
      "K-means: 0.8768088251741344\n",
      "DBSCAN: 0.0\n",
      "OPTICS: 0.7591568375392997\n",
      "Proposed: 1.0\n"
     ]
    }
   ],
   "source": [
    " \n",
    "print(f\"Element-centric similarity:\") \n",
    "print(f\"K-means: {score_kmeans}\")\n",
    "print(f\"DBSCAN: {score_dbscan}\") # Something Wrong\n",
    "print(f\"OPTICS: {score_optics}\") # Something Wrong\n",
    "print(f\"Proposed: {score_proposed}\")"
   ]
  },
  {
   "cell_type": "markdown",
   "metadata": {},
   "source": [
    "This element-centric similarity is markedly different from the one gotten by Sadamori. The only difference in my implementation is the way in which the embedding vectors where gotten. I used Louis Abraham's Fastnode2vec to get the embedding vectors."
   ]
  },
  {
   "cell_type": "code",
   "execution_count": 37,
   "metadata": {
    "scrolled": true
   },
   "outputs": [
    {
     "name": "stderr",
     "output_type": "stream",
     "text": [
      "/nobackup/gogandhi/miniconda3/envs/kmeans_env/lib/python3.9/site-packages/seaborn/_oldcore.py:1498: FutureWarning: is_categorical_dtype is deprecated and will be removed in a future version. Use isinstance(dtype, CategoricalDtype) instead\n",
      "  if pd.api.types.is_categorical_dtype(vector):\n",
      "/nobackup/gogandhi/miniconda3/envs/kmeans_env/lib/python3.9/site-packages/seaborn/_oldcore.py:1119: FutureWarning: use_inf_as_na option is deprecated and will be removed in a future version. Convert inf values to NaN before operating instead.\n",
      "  with pd.option_context('mode.use_inf_as_na', True):\n",
      "/nobackup/gogandhi/miniconda3/envs/kmeans_env/lib/python3.9/site-packages/seaborn/_oldcore.py:1498: FutureWarning: is_categorical_dtype is deprecated and will be removed in a future version. Use isinstance(dtype, CategoricalDtype) instead\n",
      "  if pd.api.types.is_categorical_dtype(vector):\n",
      "/nobackup/gogandhi/miniconda3/envs/kmeans_env/lib/python3.9/site-packages/seaborn/_oldcore.py:1119: FutureWarning: use_inf_as_na option is deprecated and will be removed in a future version. Convert inf values to NaN before operating instead.\n",
      "  with pd.option_context('mode.use_inf_as_na', True):\n",
      "/nobackup/gogandhi/miniconda3/envs/kmeans_env/lib/python3.9/site-packages/seaborn/_oldcore.py:1498: FutureWarning: is_categorical_dtype is deprecated and will be removed in a future version. Use isinstance(dtype, CategoricalDtype) instead\n",
      "  if pd.api.types.is_categorical_dtype(vector):\n",
      "/nobackup/gogandhi/miniconda3/envs/kmeans_env/lib/python3.9/site-packages/seaborn/_oldcore.py:1119: FutureWarning: use_inf_as_na option is deprecated and will be removed in a future version. Convert inf values to NaN before operating instead.\n",
      "  with pd.option_context('mode.use_inf_as_na', True):\n"
     ]
    },
    {
     "data": {
      "text/plain": [
       "<Figure size 640x480 with 0 Axes>"
      ]
     },
     "metadata": {},
     "output_type": "display_data"
    },
    {
     "data": {
      "image/png": "[encoded data removed]",
      "text/plain": [
       "<Figure size 500x500 with 1 Axes>"
      ]
     },
     "metadata": {},
     "output_type": "display_data"
    }
   ],
   "source": [
    "plt.clf()\n",
    "\n",
    "clus_sz = np.unique(community_table[\"community_id\"], return_counts=True)[1] \n",
    "clus_sz_proposed = np.unique(gs, return_counts = True)[1]\n",
    "clus_sz_kmeans = np.unique(kmeans.labels_, return_counts=True)[1]\n",
    "clus_sz_dbscan = np.unique(dbscan.labels_, return_counts=True)[1]\n",
    "clus_sz_optics = np.unique(optics.labels_, return_counts=True)[1]\n",
    "\n",
    "sns.set_style('white')\n",
    "sns.set(font_scale=1.2)\n",
    "sns.set_style('ticks')\n",
    "\n",
    "fig, ax = plt.subplots(figsize=(5,5))\n",
    "\n",
    "sns.histplot(clus_sz_proposed, bins = 30, color = sns.color_palette().as_hex()[0],label = \"Proposed\", ax = ax)\n",
    "sns.histplot(clus_sz_kmeans, bins = 30, color = sns.color_palette().as_hex()[1],label = \"K-means\", ax = ax)\n",
    "#sns.histplot(clus_sz_dbscan, bins = 30, color = sns.color_palette().as_hex()[2],label = \"DBSCAN\", ax = ax)\n",
    "#sns.histplot(clus_sz_optics, bins = 30, color = sns.color_palette().as_hex()[3],label = \"OPTICS\", ax = ax)\n",
    "sns.histplot(clus_sz, bins = 30, color = sns.color_palette().as_hex()[4], label= \"Ground-truth\", ax = ax) \n",
    "ax.legend(frameon = False) \n",
    "ax.set_xlabel(\"Cluster Size\")\n",
    "sns.despine()\n"
   ]
  },
  {
   "cell_type": "code",
   "execution_count": 32,
   "metadata": {},
   "outputs": [
    {
     "data": {
      "text/plain": [
       "(1,)"
      ]
     },
     "execution_count": 32,
     "metadata": {},
     "output_type": "execute_result"
    }
   ],
   "source": [
    "np.shape(clus_sz_dbscan)"
   ]
  },
  {
   "cell_type": "code",
   "execution_count": 34,
   "metadata": {},
   "outputs": [
    {
     "data": {
      "text/plain": [
       "array([  0, 364,  96, ...,  30,  10,  18])"
      ]
     },
     "execution_count": 34,
     "metadata": {},
     "output_type": "execute_result"
    }
   ],
   "source": [
    "optics.labels_"
   ]
  },
  {
   "cell_type": "code",
   "execution_count": 35,
   "metadata": {},
   "outputs": [
    {
     "data": {
      "text/plain": [
       "array([-1, -1, -1, ..., -1, -1, -1])"
      ]
     },
     "execution_count": 35,
     "metadata": {},
     "output_type": "execute_result"
    }
   ],
   "source": [
    "dbscan.labels_"
   ]
  },
  {
   "cell_type": "code",
   "execution_count": 46,
   "metadata": {},
   "outputs": [],
   "source": [
    "dbscan = DBSCAN(eps=0.5, min_samples=5)  # Adjust parameters as needed\n",
    "dbscan_labels = dbscan.fit_predict(np.random.rand(100000, 64) ) # Replace with your data)"
   ]
  },
  {
   "cell_type": "code",
   "execution_count": 47,
   "metadata": {},
   "outputs": [
    {
     "data": {
      "text/plain": [
       "array([-1, -1, -1, ..., -1, -1, -1])"
      ]
     },
     "execution_count": 47,
     "metadata": {},
     "output_type": "execute_result"
    }
   ],
   "source": [
    "dbscan_labels"
   ]
  },
  {
   "cell_type": "code",
   "execution_count": 48,
   "metadata": {},
   "outputs": [
    {
     "ename": "KeyboardInterrupt",
     "evalue": "",
     "output_type": "error",
     "traceback": [
      "\u001b[0;31m---------------------------------------------------------------------------\u001b[0m",
      "\u001b[0;31mKeyboardInterrupt\u001b[0m                         Traceback (most recent call last)",
      "File \u001b[0;32m/nobackup/gogandhi/miniconda3/envs/kmeans_env/lib/python3.9/site-packages/sklearn/base.py:1152\u001b[0m, in \u001b[0;36m_fit_context.<locals>.decorator.<locals>.wrapper\u001b[0;34m(estimator, *args, **kwargs)\u001b[0m\n\u001b[1;32m   1147\u001b[0m \u001b[38;5;28;01mwith\u001b[39;00m config_context(\n\u001b[1;32m   1148\u001b[0m     skip_parameter_validation\u001b[38;5;241m=\u001b[39m(\n\u001b[1;32m   1149\u001b[0m         prefer_skip_nested_validation \u001b[38;5;129;01mor\u001b[39;00m global_skip_validation\n\u001b[1;32m   1150\u001b[0m     )\n\u001b[1;32m   1151\u001b[0m ):\n\u001b[0;32m-> 1152\u001b[0m     \u001b[38;5;28;01mreturn\u001b[39;00m \u001b[43mfit_method\u001b[49m\u001b[43m(\u001b[49m\u001b[43mestimator\u001b[49m\u001b[43m,\u001b[49m\u001b[43m \u001b[49m\u001b[38;5;241;43m*\u001b[39;49m\u001b[43margs\u001b[49m\u001b[43m,\u001b[49m\u001b[43m \u001b[49m\u001b[38;5;241;43m*\u001b[39;49m\u001b[38;5;241;43m*\u001b[39;49m\u001b[43mkwargs\u001b[49m\u001b[43m)\u001b[49m\n",
      "File \u001b[0;32m/nobackup/gogandhi/miniconda3/envs/kmeans_env/lib/python3.9/site-packages/sklearn/cluster/_agglomerative.py:979\u001b[0m, in \u001b[0;36mAgglomerativeClustering.fit\u001b[0;34m(self, X, y)\u001b[0m\n\u001b[1;32m    978\u001b[0m X \u001b[38;5;241m=\u001b[39m \u001b[38;5;28mself\u001b[39m\u001b[38;5;241m.\u001b[39m_validate_data(X, ensure_min_samples\u001b[38;5;241m=\u001b[39m\u001b[38;5;241m2\u001b[39m)\n\u001b[0;32m--> 979\u001b[0m \u001b[38;5;28;01mreturn\u001b[39;00m \u001b[38;5;28;43mself\u001b[39;49m\u001b[38;5;241;43m.\u001b[39;49m\u001b[43m_fit\u001b[49m\u001b[43m(\u001b[49m\u001b[43mX\u001b[49m\u001b[43m)\u001b[49m\n",
      "File \u001b[0;32m/nobackup/gogandhi/miniconda3/envs/kmeans_env/lib/python3.9/site-packages/sklearn/cluster/_agglomerative.py:1071\u001b[0m, in \u001b[0;36mAgglomerativeClustering._fit\u001b[0;34m(self, X)\u001b[0m\n\u001b[1;32m   1069\u001b[0m return_distance \u001b[38;5;241m=\u001b[39m (distance_threshold \u001b[38;5;129;01mis\u001b[39;00m \u001b[38;5;129;01mnot\u001b[39;00m \u001b[38;5;28;01mNone\u001b[39;00m) \u001b[38;5;129;01mor\u001b[39;00m \u001b[38;5;28mself\u001b[39m\u001b[38;5;241m.\u001b[39mcompute_distances\n\u001b[0;32m-> 1071\u001b[0m out \u001b[38;5;241m=\u001b[39m \u001b[43mmemory\u001b[49m\u001b[38;5;241;43m.\u001b[39;49m\u001b[43mcache\u001b[49m\u001b[43m(\u001b[49m\u001b[43mtree_builder\u001b[49m\u001b[43m)\u001b[49m\u001b[43m(\u001b[49m\n\u001b[1;32m   1072\u001b[0m \u001b[43m    \u001b[49m\u001b[43mX\u001b[49m\u001b[43m,\u001b[49m\n\u001b[1;32m   1073\u001b[0m \u001b[43m    \u001b[49m\u001b[43mconnectivity\u001b[49m\u001b[38;5;241;43m=\u001b[39;49m\u001b[43mconnectivity\u001b[49m\u001b[43m,\u001b[49m\n\u001b[1;32m   1074\u001b[0m \u001b[43m    \u001b[49m\u001b[43mn_clusters\u001b[49m\u001b[38;5;241;43m=\u001b[39;49m\u001b[43mn_clusters\u001b[49m\u001b[43m,\u001b[49m\n\u001b[1;32m   1075\u001b[0m \u001b[43m    \u001b[49m\u001b[43mreturn_distance\u001b[49m\u001b[38;5;241;43m=\u001b[39;49m\u001b[43mreturn_distance\u001b[49m\u001b[43m,\u001b[49m\n\u001b[1;32m   1076\u001b[0m \u001b[43m    \u001b[49m\u001b[38;5;241;43m*\u001b[39;49m\u001b[38;5;241;43m*\u001b[39;49m\u001b[43mkwargs\u001b[49m\u001b[43m,\u001b[49m\n\u001b[1;32m   1077\u001b[0m \u001b[43m\u001b[49m\u001b[43m)\u001b[49m\n\u001b[1;32m   1078\u001b[0m (\u001b[38;5;28mself\u001b[39m\u001b[38;5;241m.\u001b[39mchildren_, \u001b[38;5;28mself\u001b[39m\u001b[38;5;241m.\u001b[39mn_connected_components_, \u001b[38;5;28mself\u001b[39m\u001b[38;5;241m.\u001b[39mn_leaves_, parents) \u001b[38;5;241m=\u001b[39m out[\n\u001b[1;32m   1079\u001b[0m     :\u001b[38;5;241m4\u001b[39m\n\u001b[1;32m   1080\u001b[0m ]\n",
      "File \u001b[0;32m/nobackup/gogandhi/miniconda3/envs/kmeans_env/lib/python3.9/site-packages/joblib/memory.py:353\u001b[0m, in \u001b[0;36mNotMemorizedFunc.__call__\u001b[0;34m(self, *args, **kwargs)\u001b[0m\n\u001b[1;32m    352\u001b[0m \u001b[38;5;28;01mdef\u001b[39;00m \u001b[38;5;21m__call__\u001b[39m(\u001b[38;5;28mself\u001b[39m, \u001b[38;5;241m*\u001b[39margs, \u001b[38;5;241m*\u001b[39m\u001b[38;5;241m*\u001b[39mkwargs):\n\u001b[0;32m--> 353\u001b[0m     \u001b[38;5;28;01mreturn\u001b[39;00m \u001b[38;5;28;43mself\u001b[39;49m\u001b[38;5;241;43m.\u001b[39;49m\u001b[43mfunc\u001b[49m\u001b[43m(\u001b[49m\u001b[38;5;241;43m*\u001b[39;49m\u001b[43margs\u001b[49m\u001b[43m,\u001b[49m\u001b[43m \u001b[49m\u001b[38;5;241;43m*\u001b[39;49m\u001b[38;5;241;43m*\u001b[39;49m\u001b[43mkwargs\u001b[49m\u001b[43m)\u001b[49m\n",
      "File \u001b[0;32m/nobackup/gogandhi/miniconda3/envs/kmeans_env/lib/python3.9/site-packages/sklearn/utils/_param_validation.py:184\u001b[0m, in \u001b[0;36mvalidate_params.<locals>.decorator.<locals>.wrapper\u001b[0;34m(*args, **kwargs)\u001b[0m\n\u001b[1;32m    183\u001b[0m \u001b[38;5;28;01mif\u001b[39;00m global_skip_validation:\n\u001b[0;32m--> 184\u001b[0m     \u001b[38;5;28;01mreturn\u001b[39;00m \u001b[43mfunc\u001b[49m\u001b[43m(\u001b[49m\u001b[38;5;241;43m*\u001b[39;49m\u001b[43margs\u001b[49m\u001b[43m,\u001b[49m\u001b[43m \u001b[49m\u001b[38;5;241;43m*\u001b[39;49m\u001b[38;5;241;43m*\u001b[39;49m\u001b[43mkwargs\u001b[49m\u001b[43m)\u001b[49m\n\u001b[1;32m    186\u001b[0m func_sig \u001b[38;5;241m=\u001b[39m signature(func)\n",
      "File \u001b[0;32m/nobackup/gogandhi/miniconda3/envs/kmeans_env/lib/python3.9/site-packages/sklearn/cluster/_agglomerative.py:295\u001b[0m, in \u001b[0;36mward_tree\u001b[0;34m(X, connectivity, n_clusters, return_distance)\u001b[0m\n\u001b[1;32m    294\u001b[0m X \u001b[38;5;241m=\u001b[39m np\u001b[38;5;241m.\u001b[39mrequire(X, requirements\u001b[38;5;241m=\u001b[39m\u001b[38;5;124m\"\u001b[39m\u001b[38;5;124mW\u001b[39m\u001b[38;5;124m\"\u001b[39m)\n\u001b[0;32m--> 295\u001b[0m out \u001b[38;5;241m=\u001b[39m \u001b[43mhierarchy\u001b[49m\u001b[38;5;241;43m.\u001b[39;49m\u001b[43mward\u001b[49m\u001b[43m(\u001b[49m\u001b[43mX\u001b[49m\u001b[43m)\u001b[49m\n\u001b[1;32m    296\u001b[0m children_ \u001b[38;5;241m=\u001b[39m out[:, :\u001b[38;5;241m2\u001b[39m]\u001b[38;5;241m.\u001b[39mastype(np\u001b[38;5;241m.\u001b[39mintp)\n",
      "File \u001b[0;32m/nobackup/gogandhi/miniconda3/envs/kmeans_env/lib/python3.9/site-packages/scipy/cluster/hierarchy.py:833\u001b[0m, in \u001b[0;36mward\u001b[0;34m(y)\u001b[0m\n\u001b[1;32m    738\u001b[0m \u001b[38;5;250m\u001b[39m\u001b[38;5;124;03m\"\"\"\u001b[39;00m\n\u001b[1;32m    739\u001b[0m \u001b[38;5;124;03mPerform Ward's linkage on a condensed distance matrix.\u001b[39;00m\n\u001b[1;32m    740\u001b[0m \n\u001b[0;32m   (...)\u001b[0m\n\u001b[1;32m    831\u001b[0m \n\u001b[1;32m    832\u001b[0m \u001b[38;5;124;03m\"\"\"\u001b[39;00m\n\u001b[0;32m--> 833\u001b[0m \u001b[38;5;28;01mreturn\u001b[39;00m \u001b[43mlinkage\u001b[49m\u001b[43m(\u001b[49m\u001b[43my\u001b[49m\u001b[43m,\u001b[49m\u001b[43m \u001b[49m\u001b[43mmethod\u001b[49m\u001b[38;5;241;43m=\u001b[39;49m\u001b[38;5;124;43m'\u001b[39;49m\u001b[38;5;124;43mward\u001b[39;49m\u001b[38;5;124;43m'\u001b[39;49m\u001b[43m,\u001b[49m\u001b[43m \u001b[49m\u001b[43mmetric\u001b[49m\u001b[38;5;241;43m=\u001b[39;49m\u001b[38;5;124;43m'\u001b[39;49m\u001b[38;5;124;43meuclidean\u001b[39;49m\u001b[38;5;124;43m'\u001b[39;49m\u001b[43m)\u001b[49m\n",
      "File \u001b[0;32m/nobackup/gogandhi/miniconda3/envs/kmeans_env/lib/python3.9/site-packages/scipy/cluster/hierarchy.py:1073\u001b[0m, in \u001b[0;36mlinkage\u001b[0;34m(y, method, metric, optimal_ordering)\u001b[0m\n\u001b[1;32m   1072\u001b[0m \u001b[38;5;28;01melif\u001b[39;00m method \u001b[38;5;129;01min\u001b[39;00m [\u001b[38;5;124m'\u001b[39m\u001b[38;5;124mcomplete\u001b[39m\u001b[38;5;124m'\u001b[39m, \u001b[38;5;124m'\u001b[39m\u001b[38;5;124maverage\u001b[39m\u001b[38;5;124m'\u001b[39m, \u001b[38;5;124m'\u001b[39m\u001b[38;5;124mweighted\u001b[39m\u001b[38;5;124m'\u001b[39m, \u001b[38;5;124m'\u001b[39m\u001b[38;5;124mward\u001b[39m\u001b[38;5;124m'\u001b[39m]:\n\u001b[0;32m-> 1073\u001b[0m     result \u001b[38;5;241m=\u001b[39m \u001b[43m_hierarchy\u001b[49m\u001b[38;5;241;43m.\u001b[39;49m\u001b[43mnn_chain\u001b[49m\u001b[43m(\u001b[49m\u001b[43my\u001b[49m\u001b[43m,\u001b[49m\u001b[43m \u001b[49m\u001b[43mn\u001b[49m\u001b[43m,\u001b[49m\u001b[43m \u001b[49m\u001b[43mmethod_code\u001b[49m\u001b[43m)\u001b[49m\n\u001b[1;32m   1074\u001b[0m \u001b[38;5;28;01melse\u001b[39;00m:\n",
      "File \u001b[0;32m_hierarchy.pyx:928\u001b[0m, in \u001b[0;36mscipy.cluster._hierarchy.nn_chain\u001b[0;34m()\u001b[0m\n",
      "File \u001b[0;32m/nobackup/gogandhi/miniconda3/envs/kmeans_env/lib/python3.9/site-packages/numpy/core/numeric.py:150\u001b[0m, in \u001b[0;36mones\u001b[0;34m(shape, dtype, order, like)\u001b[0m\n\u001b[1;32m    147\u001b[0m     \u001b[38;5;28;01mreturn\u001b[39;00m(like,)\n\u001b[0;32m--> 150\u001b[0m \u001b[38;5;129m@set_array_function_like_doc\u001b[39m\n\u001b[1;32m    151\u001b[0m \u001b[38;5;129m@set_module\u001b[39m(\u001b[38;5;124m'\u001b[39m\u001b[38;5;124mnumpy\u001b[39m\u001b[38;5;124m'\u001b[39m)\n\u001b[1;32m    152\u001b[0m \u001b[38;5;28;01mdef\u001b[39;00m \u001b[38;5;21mones\u001b[39m(shape, dtype\u001b[38;5;241m=\u001b[39m\u001b[38;5;28;01mNone\u001b[39;00m, order\u001b[38;5;241m=\u001b[39m\u001b[38;5;124m'\u001b[39m\u001b[38;5;124mC\u001b[39m\u001b[38;5;124m'\u001b[39m, \u001b[38;5;241m*\u001b[39m, like\u001b[38;5;241m=\u001b[39m\u001b[38;5;28;01mNone\u001b[39;00m):\n\u001b[1;32m    153\u001b[0m \u001b[38;5;250m    \u001b[39m\u001b[38;5;124;03m\"\"\"\u001b[39;00m\n\u001b[1;32m    154\u001b[0m \u001b[38;5;124;03m    Return a new array of given shape and type, filled with ones.\u001b[39;00m\n\u001b[1;32m    155\u001b[0m \n\u001b[0;32m   (...)\u001b[0m\n\u001b[1;32m    200\u001b[0m \n\u001b[1;32m    201\u001b[0m \u001b[38;5;124;03m    \"\"\"\u001b[39;00m\n",
      "\u001b[0;31mKeyboardInterrupt\u001b[0m: ",
      "\nDuring handling of the above exception, another exception occurred:\n",
      "\u001b[0;31mKeyboardInterrupt\u001b[0m                         Traceback (most recent call last)",
      "Cell \u001b[0;32mIn[48], line 8\u001b[0m\n\u001b[1;32m      5\u001b[0m num_clusters \u001b[38;5;241m=\u001b[39m \u001b[38;5;28mlen\u001b[39m(community_table[\u001b[38;5;124m\"\u001b[39m\u001b[38;5;124mcommunity_id\u001b[39m\u001b[38;5;124m\"\u001b[39m])\n\u001b[1;32m      7\u001b[0m agg_clustering \u001b[38;5;241m=\u001b[39m AgglomerativeClustering(n_clusters\u001b[38;5;241m=\u001b[39mnum_clusters)\n\u001b[0;32m----> 8\u001b[0m cluster_labels \u001b[38;5;241m=\u001b[39m \u001b[43magg_clustering\u001b[49m\u001b[38;5;241;43m.\u001b[39;49m\u001b[43mfit_predict\u001b[49m\u001b[43m(\u001b[49m\u001b[43mdata\u001b[49m\u001b[43m)\u001b[49m\n\u001b[1;32m      9\u001b[0m \u001b[38;5;28mprint\u001b[39m(cluster_labels)\n",
      "File \u001b[0;32m/nobackup/gogandhi/miniconda3/envs/kmeans_env/lib/python3.9/site-packages/sklearn/cluster/_agglomerative.py:1124\u001b[0m, in \u001b[0;36mAgglomerativeClustering.fit_predict\u001b[0;34m(self, X, y)\u001b[0m\n\u001b[1;32m   1103\u001b[0m \u001b[38;5;28;01mdef\u001b[39;00m \u001b[38;5;21mfit_predict\u001b[39m(\u001b[38;5;28mself\u001b[39m, X, y\u001b[38;5;241m=\u001b[39m\u001b[38;5;28;01mNone\u001b[39;00m):\n\u001b[1;32m   1104\u001b[0m \u001b[38;5;250m    \u001b[39m\u001b[38;5;124;03m\"\"\"Fit and return the result of each sample's clustering assignment.\u001b[39;00m\n\u001b[1;32m   1105\u001b[0m \n\u001b[1;32m   1106\u001b[0m \u001b[38;5;124;03m    In addition to fitting, this method also return the result of the\u001b[39;00m\n\u001b[0;32m   (...)\u001b[0m\n\u001b[1;32m   1122\u001b[0m \u001b[38;5;124;03m        Cluster labels.\u001b[39;00m\n\u001b[1;32m   1123\u001b[0m \u001b[38;5;124;03m    \"\"\"\u001b[39;00m\n\u001b[0;32m-> 1124\u001b[0m     \u001b[38;5;28;01mreturn\u001b[39;00m \u001b[38;5;28;43msuper\u001b[39;49m\u001b[43m(\u001b[49m\u001b[43m)\u001b[49m\u001b[38;5;241;43m.\u001b[39;49m\u001b[43mfit_predict\u001b[49m\u001b[43m(\u001b[49m\u001b[43mX\u001b[49m\u001b[43m,\u001b[49m\u001b[43m \u001b[49m\u001b[43my\u001b[49m\u001b[43m)\u001b[49m\n",
      "File \u001b[0;32m/nobackup/gogandhi/miniconda3/envs/kmeans_env/lib/python3.9/site-packages/sklearn/base.py:791\u001b[0m, in \u001b[0;36mClusterMixin.fit_predict\u001b[0;34m(self, X, y)\u001b[0m\n\u001b[1;32m    773\u001b[0m \u001b[38;5;250m\u001b[39m\u001b[38;5;124;03m\"\"\"\u001b[39;00m\n\u001b[1;32m    774\u001b[0m \u001b[38;5;124;03mPerform clustering on `X` and returns cluster labels.\u001b[39;00m\n\u001b[1;32m    775\u001b[0m \n\u001b[0;32m   (...)\u001b[0m\n\u001b[1;32m    787\u001b[0m \u001b[38;5;124;03m    Cluster labels.\u001b[39;00m\n\u001b[1;32m    788\u001b[0m \u001b[38;5;124;03m\"\"\"\u001b[39;00m\n\u001b[1;32m    789\u001b[0m \u001b[38;5;66;03m# non-optimized default implementation; override when a better\u001b[39;00m\n\u001b[1;32m    790\u001b[0m \u001b[38;5;66;03m# method is possible for a given clustering algorithm\u001b[39;00m\n\u001b[0;32m--> 791\u001b[0m \u001b[38;5;28;43mself\u001b[39;49m\u001b[38;5;241;43m.\u001b[39;49m\u001b[43mfit\u001b[49m\u001b[43m(\u001b[49m\u001b[43mX\u001b[49m\u001b[43m)\u001b[49m\n\u001b[1;32m    792\u001b[0m \u001b[38;5;28;01mreturn\u001b[39;00m \u001b[38;5;28mself\u001b[39m\u001b[38;5;241m.\u001b[39mlabels_\n",
      "File \u001b[0;32m/nobackup/gogandhi/miniconda3/envs/kmeans_env/lib/python3.9/site-packages/sklearn/base.py:1152\u001b[0m, in \u001b[0;36m_fit_context.<locals>.decorator.<locals>.wrapper\u001b[0;34m(estimator, *args, **kwargs)\u001b[0m\n\u001b[1;32m   1145\u001b[0m     estimator\u001b[38;5;241m.\u001b[39m_validate_params()\n\u001b[1;32m   1147\u001b[0m \u001b[38;5;28;01mwith\u001b[39;00m config_context(\n\u001b[1;32m   1148\u001b[0m     skip_parameter_validation\u001b[38;5;241m=\u001b[39m(\n\u001b[1;32m   1149\u001b[0m         prefer_skip_nested_validation \u001b[38;5;129;01mor\u001b[39;00m global_skip_validation\n\u001b[1;32m   1150\u001b[0m     )\n\u001b[1;32m   1151\u001b[0m ):\n\u001b[0;32m-> 1152\u001b[0m     \u001b[38;5;28;01mreturn\u001b[39;00m \u001b[43mfit_method\u001b[49m\u001b[43m(\u001b[49m\u001b[43mestimator\u001b[49m\u001b[43m,\u001b[49m\u001b[43m \u001b[49m\u001b[38;5;241;43m*\u001b[39;49m\u001b[43margs\u001b[49m\u001b[43m,\u001b[49m\u001b[43m \u001b[49m\u001b[38;5;241;43m*\u001b[39;49m\u001b[38;5;241;43m*\u001b[39;49m\u001b[43mkwargs\u001b[49m\u001b[43m)\u001b[49m\n",
      "\u001b[0;31mKeyboardInterrupt\u001b[0m: "
     ]
    }
   ],
   "source": [
    "'''\n",
    "from sklearn.cluster import AgglomerativeClustering\n",
    "\n",
    "data = np.random.rand(100000, 64)  # Replace with your data\n",
    "\n",
    "num_clusters = len(community_table[\"community_id\"])\n",
    "\n",
    "agg_clustering = AgglomerativeClustering(n_clusters=num_clusters)\n",
    "cluster_labels = agg_clustering.fit_predict(data)\n",
    "print(cluster_labels)\n",
    "'''"
   ]
  },
  {
   "cell_type": "code",
   "execution_count": null,
   "metadata": {},
   "outputs": [],
   "source": []
  },
  {
   "cell_type": "code",
   "execution_count": null,
   "metadata": {},
   "outputs": [],
   "source": []
  }
 ],
 "metadata": {
  "kernelspec": {
   "display_name": "kmeans_env",
   "language": "python",
   "name": "python3"
  },
  "language_info": {
   "codemirror_mode": {
    "name": "ipython",
    "version": 3
   },
   "file_extension": ".py",
   "mimetype": "text/x-python",
   "name": "python",
   "nbconvert_exporter": "python",
   "pygments_lexer": "ipython3",
   "version": "3.9.18"
  }
 },
 "nbformat": 4,
 "nbformat_minor": 5
}
