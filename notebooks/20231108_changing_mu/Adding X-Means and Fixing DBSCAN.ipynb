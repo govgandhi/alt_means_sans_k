{
 "cells": [
  {
   "cell_type": "code",
   "execution_count": 10,
   "metadata": {},
   "outputs": [
    {
     "data": {
      "text/plain": [
       "('1.24.3', '0.10.1.2')"
      ]
     },
     "execution_count": 10,
     "metadata": {},
     "output_type": "execute_result"
    }
   ],
   "source": [
    "from pyclustering.cluster import cluster_visualizer\n",
    "from pyclustering.cluster.xmeans import xmeans, splitting_type\n",
    "from pyclustering.cluster.center_initializer import kmeans_plusplus_initializer\n",
    "from pyclustering.utils import read_sample\n",
    "from pyclustering.samples.definitions import FCPS_SAMPLES\n",
    "import numpy as np\n",
    "import pyclustering as pct\n",
    "np. __version__ , pct. __version__ "
   ]
  },
  {
   "cell_type": "code",
   "execution_count": 11,
   "metadata": {},
   "outputs": [
    {
     "name": "stdout",
     "output_type": "stream",
     "text": [
      "Python 3.9.18\r\n"
     ]
    }
   ],
   "source": [
    "!python --version"
   ]
  },
  {
   "cell_type": "code",
   "execution_count": 5,
   "metadata": {},
   "outputs": [
    {
     "ename": "AttributeError",
     "evalue": "module 'numpy' has no attribute 'warnings'",
     "output_type": "error",
     "traceback": [
      "\u001b[0;31m---------------------------------------------------------------------------\u001b[0m",
      "\u001b[0;31mAttributeError\u001b[0m                            Traceback (most recent call last)",
      "Cell \u001b[0;32mIn[5], line 13\u001b[0m\n\u001b[1;32m     11\u001b[0m random_seed \u001b[38;5;241m=\u001b[39m \u001b[38;5;241m1000\u001b[39m\n\u001b[1;32m     12\u001b[0m amount_initial_centers \u001b[38;5;241m=\u001b[39m \u001b[38;5;241m3\u001b[39m\n\u001b[0;32m---> 13\u001b[0m initial_centers \u001b[38;5;241m=\u001b[39m \u001b[43mkmeans_plusplus_initializer\u001b[49m\u001b[43m(\u001b[49m\u001b[43msample\u001b[49m\u001b[43m,\u001b[49m\u001b[43m \u001b[49m\u001b[43mamount_initial_centers\u001b[49m\u001b[43m,\u001b[49m\u001b[43m \u001b[49m\u001b[43mrandom_state\u001b[49m\u001b[38;5;241;43m=\u001b[39;49m\u001b[43mrandom_seed\u001b[49m\u001b[43m)\u001b[49m\u001b[38;5;241;43m.\u001b[39;49m\u001b[43minitialize\u001b[49m\u001b[43m(\u001b[49m\u001b[43m)\u001b[49m\n\u001b[1;32m     15\u001b[0m \u001b[38;5;66;03m# Create instance of X-Means algorithm with MNDL splitting criterion.\u001b[39;00m\n\u001b[1;32m     16\u001b[0m xmeans_mndl \u001b[38;5;241m=\u001b[39m xmeans(sample, initial_centers, \u001b[38;5;241m20\u001b[39m, splitting_type\u001b[38;5;241m=\u001b[39msplitting_type\u001b[38;5;241m.\u001b[39mMINIMUM_NOISELESS_DESCRIPTION_LENGTH, random_state\u001b[38;5;241m=\u001b[39mrandom_seed)\n",
      "File \u001b[0;32m/nobackup/gogandhi/miniconda3/envs/kmeans_env/lib/python3.9/site-packages/pyclustering/cluster/center_initializer.py:352\u001b[0m, in \u001b[0;36mkmeans_plusplus_initializer.initialize\u001b[0;34m(self, **kwargs)\u001b[0m\n\u001b[1;32m    350\u001b[0m \u001b[38;5;66;03m# For each next center\u001b[39;00m\n\u001b[1;32m    351\u001b[0m \u001b[38;5;28;01mfor\u001b[39;00m _ \u001b[38;5;129;01min\u001b[39;00m \u001b[38;5;28mrange\u001b[39m(\u001b[38;5;241m1\u001b[39m, \u001b[38;5;28mself\u001b[39m\u001b[38;5;241m.\u001b[39m__amount):\n\u001b[0;32m--> 352\u001b[0m     index_point \u001b[38;5;241m=\u001b[39m \u001b[38;5;28;43mself\u001b[39;49m\u001b[38;5;241;43m.\u001b[39;49m\u001b[43m__get_next_center\u001b[49m\u001b[43m(\u001b[49m\u001b[43mcenters\u001b[49m\u001b[43m)\u001b[49m\n\u001b[1;32m    353\u001b[0m     centers\u001b[38;5;241m.\u001b[39mappend(index_point)\n\u001b[1;32m    354\u001b[0m     \u001b[38;5;28mself\u001b[39m\u001b[38;5;241m.\u001b[39m__free_indexes\u001b[38;5;241m.\u001b[39mremove(index_point)\n",
      "File \u001b[0;32m/nobackup/gogandhi/miniconda3/envs/kmeans_env/lib/python3.9/site-packages/pyclustering/cluster/center_initializer.py:251\u001b[0m, in \u001b[0;36mkmeans_plusplus_initializer.__get_next_center\u001b[0;34m(self, centers)\u001b[0m\n\u001b[1;32m    240\u001b[0m \u001b[38;5;28;01mdef\u001b[39;00m \u001b[38;5;21m__get_next_center\u001b[39m(\u001b[38;5;28mself\u001b[39m, centers):\n\u001b[1;32m    241\u001b[0m \u001b[38;5;250m    \u001b[39m\u001b[38;5;124;03m\"\"\"!\u001b[39;00m\n\u001b[1;32m    242\u001b[0m \u001b[38;5;124;03m    @brief Calculates the next center for the data.\u001b[39;00m\n\u001b[1;32m    243\u001b[0m \n\u001b[0;32m   (...)\u001b[0m\n\u001b[1;32m    248\u001b[0m \n\u001b[1;32m    249\u001b[0m \u001b[38;5;124;03m    \"\"\"\u001b[39;00m\n\u001b[0;32m--> 251\u001b[0m     distances \u001b[38;5;241m=\u001b[39m \u001b[38;5;28;43mself\u001b[39;49m\u001b[38;5;241;43m.\u001b[39;49m\u001b[43m__calculate_shortest_distances\u001b[49m\u001b[43m(\u001b[49m\u001b[38;5;28;43mself\u001b[39;49m\u001b[38;5;241;43m.\u001b[39;49m\u001b[43m__data\u001b[49m\u001b[43m,\u001b[49m\u001b[43m \u001b[49m\u001b[43mcenters\u001b[49m\u001b[43m)\u001b[49m\n\u001b[1;32m    253\u001b[0m     \u001b[38;5;28;01mif\u001b[39;00m \u001b[38;5;28mself\u001b[39m\u001b[38;5;241m.\u001b[39m__candidates \u001b[38;5;241m==\u001b[39m kmeans_plusplus_initializer\u001b[38;5;241m.\u001b[39mFARTHEST_CENTER_CANDIDATE:\n\u001b[1;32m    254\u001b[0m         \u001b[38;5;28;01mfor\u001b[39;00m index_point \u001b[38;5;129;01min\u001b[39;00m centers:\n",
      "File \u001b[0;32m/nobackup/gogandhi/miniconda3/envs/kmeans_env/lib/python3.9/site-packages/pyclustering/cluster/center_initializer.py:234\u001b[0m, in \u001b[0;36mkmeans_plusplus_initializer.__calculate_shortest_distances\u001b[0;34m(self, data, centers)\u001b[0m\n\u001b[1;32m    231\u001b[0m     dataset_differences[index_center] \u001b[38;5;241m=\u001b[39m numpy\u001b[38;5;241m.\u001b[39msum(numpy\u001b[38;5;241m.\u001b[39msquare(data \u001b[38;5;241m-\u001b[39m center), axis\u001b[38;5;241m=\u001b[39m\u001b[38;5;241m1\u001b[39m)\u001b[38;5;241m.\u001b[39mT\n\u001b[1;32m    233\u001b[0m \u001b[38;5;28;01mwith\u001b[39;00m warnings\u001b[38;5;241m.\u001b[39mcatch_warnings():\n\u001b[0;32m--> 234\u001b[0m     \u001b[43mnumpy\u001b[49m\u001b[38;5;241;43m.\u001b[39;49m\u001b[43mwarnings\u001b[49m\u001b[38;5;241m.\u001b[39mfilterwarnings(\u001b[38;5;124m'\u001b[39m\u001b[38;5;124mignore\u001b[39m\u001b[38;5;124m'\u001b[39m, \u001b[38;5;124mr\u001b[39m\u001b[38;5;124m'\u001b[39m\u001b[38;5;124mAll-NaN (slice|axis) encountered\u001b[39m\u001b[38;5;124m'\u001b[39m)\n\u001b[1;32m    235\u001b[0m     shortest_distances \u001b[38;5;241m=\u001b[39m numpy\u001b[38;5;241m.\u001b[39mnanmin(dataset_differences, axis\u001b[38;5;241m=\u001b[39m\u001b[38;5;241m0\u001b[39m)\n\u001b[1;32m    237\u001b[0m \u001b[38;5;28;01mreturn\u001b[39;00m shortest_distances\n",
      "File \u001b[0;32m/nobackup/gogandhi/miniconda3/envs/kmeans_env/lib/python3.9/site-packages/numpy/__init__.py:320\u001b[0m, in \u001b[0;36m__getattr__\u001b[0;34m(attr)\u001b[0m\n\u001b[1;32m    317\u001b[0m     \u001b[38;5;28;01mfrom\u001b[39;00m \u001b[38;5;21;01m.\u001b[39;00m\u001b[38;5;21;01mtesting\u001b[39;00m \u001b[38;5;28;01mimport\u001b[39;00m Tester\n\u001b[1;32m    318\u001b[0m     \u001b[38;5;28;01mreturn\u001b[39;00m Tester\n\u001b[0;32m--> 320\u001b[0m \u001b[38;5;28;01mraise\u001b[39;00m \u001b[38;5;167;01mAttributeError\u001b[39;00m(\u001b[38;5;124m\"\u001b[39m\u001b[38;5;124mmodule \u001b[39m\u001b[38;5;132;01m{!r}\u001b[39;00m\u001b[38;5;124m has no attribute \u001b[39m\u001b[38;5;124m\"\u001b[39m\n\u001b[1;32m    321\u001b[0m                      \u001b[38;5;124m\"\u001b[39m\u001b[38;5;132;01m{!r}\u001b[39;00m\u001b[38;5;124m\"\u001b[39m\u001b[38;5;241m.\u001b[39mformat(\u001b[38;5;18m__name__\u001b[39m, attr))\n",
      "\u001b[0;31mAttributeError\u001b[0m: module 'numpy' has no attribute 'warnings'"
     ]
    }
   ],
   "source": [
    " \n",
    "# Read sample 'Target'.\n",
    "sample = read_sample(FCPS_SAMPLES.SAMPLE_TARGET)\n",
    " \n",
    "# Prepare initial centers - amount of initial centers defines amount of clusters from which X-Means will start analysis.\n",
    "random_seed = 1000\n",
    "amount_initial_centers = 3\n",
    "initial_centers = kmeans_plusplus_initializer(sample, amount_initial_centers, random_state=random_seed).initialize()\n",
    " \n",
    "# Create instance of X-Means algorithm with MNDL splitting criterion.\n",
    "xmeans_mndl = xmeans(sample, initial_centers, 20, splitting_type=splitting_type.MINIMUM_NOISELESS_DESCRIPTION_LENGTH, random_state=random_seed)\n",
    "xmeans_mndl.process()\n",
    " \n",
    "# Extract X-Means MNDL clustering results.\n",
    "mndl_clusters = xmeans_mndl.get_clusters()\n",
    " \n",
    "# Visualize clustering results.\n",
    "visualizer = cluster_visualizer(titles=['X-Means with MNDL criterion'])\n",
    "visualizer.append_clusters(mndl_clusters, sample)\n",
    "visualizer.show()"
   ]
  },
  {
   "cell_type": "code",
   "execution_count": 6,
   "metadata": {},
   "outputs": [
    {
     "ename": "NameError",
     "evalue": "name 'np' is not defined",
     "output_type": "error",
     "traceback": [
      "\u001b[0;31m---------------------------------------------------------------------------\u001b[0m",
      "\u001b[0;31mNameError\u001b[0m                                 Traceback (most recent call last)",
      "Cell \u001b[0;32mIn[6], line 1\u001b[0m\n\u001b[0;32m----> 1\u001b[0m \u001b[43mnp\u001b[49m\u001b[38;5;241m.\u001b[39m __version__\n",
      "\u001b[0;31mNameError\u001b[0m: name 'np' is not defined"
     ]
    }
   ],
   "source": []
  },
  {
   "cell_type": "code",
   "execution_count": null,
   "metadata": {},
   "outputs": [],
   "source": []
  }
 ],
 "metadata": {
  "kernelspec": {
   "display_name": "kmeans_env",
   "language": "python",
   "name": "kmeans_env"
  },
  "language_info": {
   "codemirror_mode": {
    "name": "ipython",
    "version": 3
   },
   "file_extension": ".py",
   "mimetype": "text/x-python",
   "name": "python",
   "nbconvert_exporter": "python",
   "pygments_lexer": "ipython3",
   "version": "3.9.18"
  }
 },
 "nbformat": 4,
 "nbformat_minor": 4
}
