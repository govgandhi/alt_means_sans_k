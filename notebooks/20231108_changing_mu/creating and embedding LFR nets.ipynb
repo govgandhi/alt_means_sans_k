{
 "cells": [
  {
   "cell_type": "code",
   "execution_count": 10,
   "metadata": {},
   "outputs": [],
   "source": [
    "import lfr\n",
    "import embcom\n",
    "from scipy import sparse\n",
    "import numpy as np"
   ]
  },
  {
   "cell_type": "code",
   "execution_count": 2,
   "metadata": {},
   "outputs": [],
   "source": [
    "params = {\n",
    "    \"N\": 1000,     # number of nodes\n",
    "    \"k\": 25,       # average degree\n",
    "    \"maxk\": 100,   # maximum degree sqrt(10*N)\n",
    "    \"minc\": 5,    # minimum community size\n",
    "    \"maxc\": 100,   # maximum community size sqrt(10*N)\n",
    "    \"tau\": 3.0,    # degree exponent\n",
    "    \"tau2\": 1.0,   # community size exponent\n",
    "    \"mu\": 0.2,     # mixing rate\n",
    "}\n",
    "\n",
    "ng = lfr.NetworkGenerator()\n",
    "data = ng.generate(**params)\n",
    "\n",
    "net = data[\"net\"]                  # scipy.csr_sparse matrix\n",
    "community_table = data[\"community_table\"]  # pandas DataFrame\n",
    "seed = data[\"seed\"]                # Seed value"
   ]
  },
  {
   "cell_type": "code",
   "execution_count": 7,
   "metadata": {},
   "outputs": [],
   "source": [
    "emb_params = {\n",
    "    \"window_length\": 10,\n",
    "    \"walk_length\": 80,\n",
    "    \"num_walks\": 10,\n",
    "    \"dim\" : 64,\n",
    "    }\n",
    "\n",
    "model = embcom.embeddings.Node2Vec(window_length = emb_params['window_length'], walk_length=emb_params['walk_length'], num_walks=emb_params['num_walks'])\n",
    "\n",
    "model.fit(net)\n",
    "\n",
    "emb = model.transform(dim=emb_params['dim'])\n"
   ]
  },
  {
   "cell_type": "code",
   "execution_count": 19,
   "metadata": {},
   "outputs": [],
   "source": [
    "file_name = f\"LFR_n_{params['N']}_tau1_{params['tau']}_tau2_{params['tau2']}_mu_{params['mu']}_k_{params['k']}_mincomm_{params['minc']}\"\n",
    "path_name = \"/nobackup/gogandhi/alt_means_sans_k/data/LFR_benchmark/\"\n",
    "embedding_name = f\"_node2vec_window_length_{emb_params['window_length']}_dim_{emb_params['dim']}\"\n",
    "\n",
    "sparse.save_npz(path_name+\"net_\"+file_name + \".npz\" ,net) \n",
    "community_table.to_csv(path_name+\"community_table_\"+file_name+ \".npz\",index=False)\n",
    "np.savez_compressed(path_name+\"emb_\"+file_name + embedding_name+ \".npz\",emb = emb)\n"
   ]
  },
  {
   "cell_type": "code",
   "execution_count": null,
   "metadata": {},
   "outputs": [],
   "source": [
    "# import pandas as pd\n",
    "# net = sparse.load_npz(path_name+\"net_\"+file_name + \".npz\")\n",
    "# community_table = pd.read_csv(path_name+\"community_table_\"+file_name+ \".npz\")\n",
    "# emb = np.load(path_name+\"emb_\"+file_name + embedding_name+ \".npz\")['emb']"
   ]
  },
  {
   "cell_type": "code",
   "execution_count": 20,
   "metadata": {},
   "outputs": [
    {
     "data": {
      "text/plain": [
       "array([0.  , 0.05, 0.1 , 0.15, 0.2 , 0.25, 0.3 , 0.35, 0.4 , 0.45, 0.5 ,\n",
       "       0.55, 0.6 , 0.65, 0.7 , 0.75, 0.8 , 0.85, 0.9 , 0.95, 1.  ])"
      ]
     },
     "execution_count": 20,
     "metadata": {},
     "output_type": "execute_result"
    }
   ],
   "source": []
  },
  {
   "cell_type": "code",
   "execution_count": null,
   "metadata": {},
   "outputs": [],
   "source": []
  }
 ],
 "metadata": {
  "kernelspec": {
   "display_name": "kmeans_env",
   "language": "python",
   "name": "python3"
  },
  "language_info": {
   "codemirror_mode": {
    "name": "ipython",
    "version": 3
   },
   "file_extension": ".py",
   "mimetype": "text/x-python",
   "name": "python",
   "nbconvert_exporter": "python",
   "pygments_lexer": "ipython3",
   "version": "3.9.18"
  }
 },
 "nbformat": 4,
 "nbformat_minor": 4
}
