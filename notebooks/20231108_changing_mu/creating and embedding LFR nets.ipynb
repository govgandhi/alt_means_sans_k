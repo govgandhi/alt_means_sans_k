{
 "cells": [
  {
   "cell_type": "code",
   "execution_count": 1,
   "metadata": {},
   "outputs": [],
   "source": [
    "import lfr\n",
    "import embcom"
   ]
  },
  {
   "cell_type": "code",
   "execution_count": 2,
   "metadata": {},
   "outputs": [],
   "source": [
    "params = {\n",
    "    \"N\": 1000,     # number of nodes\n",
    "    \"k\": 25,       # average degree\n",
    "    \"maxk\": 100,   # maximum degree sqrt(10*N)\n",
    "    \"minc\": 5,    # minimum community size\n",
    "    \"maxc\": 100,   # maximum community size sqrt(10*N)\n",
    "    \"tau\": 3.0,    # degree exponent\n",
    "    \"tau2\": 1.0,   # community size exponent\n",
    "    \"mu\": 0.2,     # mixing rate\n",
    "}\n",
    "\n",
    "ng = lfr.NetworkGenerator()\n",
    "data = ng.generate(**params)\n",
    "\n",
    "net = data[\"net\"]                  # scipy.csr_sparse matrix\n",
    "community_table = data[\"community_table\"]  # pandas DataFrame\n",
    "seed = data[\"seed\"]                # Seed value"
   ]
  },
  {
   "cell_type": "code",
   "execution_count": 9,
   "metadata": {},
   "outputs": [],
   "source": [
    "model = embcom.embeddings.Node2Vec(window_length = 10, walk_length=80, num_walks=10)\n",
    "\n",
    "model.fit(net)\n",
    "\n",
    "emb = model.transform(dim=64)"
   ]
  },
  {
   "cell_type": "code",
   "execution_count": null,
   "metadata": {},
   "outputs": [],
   "source": [
    "file_name = f\"LFR_n_{params['N']}_tau1_{params['tau']}_tau2_{params['tau2']}_mu_{params['mu']}_k_{params['k']}_mincomm_{params['minc']}_seed_{data['seed']}\"\n",
    "path_name = \"/nobackup/gogandhi/kmeans/data/\"\n",
    "embedding_name = f\"sadamori_node2vec_window_length_{window_length}_dim_{dim}\"\n",
    "sparse.save_npz(path_name+\"net_\"+file_name + \".npz\" ,net) \n",
    "#np.savez_compressed(path_name+\"community_table\"+file_name+ \".npz\",community_table)\n",
    "community_table.to_csv(path_name+\"community_table\"+file_name+ \".npz\",index=False)\n",
    "np.savez_compressed(path_name+\"emb\"+file_name + embedding_name+ \".npz\",emb = emb)\n"
   ]
  },
  {
   "cell_type": "code",
   "execution_count": null,
   "metadata": {},
   "outputs": [],
   "source": [
    "net = sparse.load_npz(path_name+\"net_\"+file_name + \".npz\")\n",
    "community_table = pd.read_csv(path_name+\"community_table\"+file_name+ \".npz\")\n",
    "emb = np.load(path_name+\"emb\"+file_name + embedding_name+ \".npz\")['emb']"
   ]
  },
  {
   "cell_type": "code",
   "execution_count": null,
   "metadata": {},
   "outputs": [],
   "source": []
  }
 ],
 "metadata": {
  "kernelspec": {
   "display_name": "kmeans_env",
   "language": "python",
   "name": "python3"
  },
  "language_info": {
   "codemirror_mode": {
    "name": "ipython",
    "version": 3
   },
   "file_extension": ".py",
   "mimetype": "text/x-python",
   "name": "python",
   "nbconvert_exporter": "python",
   "pygments_lexer": "ipython3",
   "version": "3.9.18"
  }
 },
 "nbformat": 4,
 "nbformat_minor": 4
}
