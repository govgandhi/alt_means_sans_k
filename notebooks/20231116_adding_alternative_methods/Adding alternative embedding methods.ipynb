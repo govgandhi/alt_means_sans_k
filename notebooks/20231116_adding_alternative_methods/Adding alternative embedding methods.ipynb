{
 "cells": [
  {
   "cell_type": "code",
   "execution_count": null,
   "metadata": {},
   "outputs": [],
   "source": [
    "  emb_params = {  \"method\": \"node2vec\",\n",
    "                        \"window_length\": 10,\n",
    "                        \"walk_length\": 80,\n",
    "                        \"num_walks\": 10,\n",
    "                        \"dim\" : 64,\n",
    "                        }\n",
    "        \n",
    "    \n",
    "    if emb_params[\"method\"] == 'node2vec':\n",
    "        model = embcom.embeddings.Node2Vec(window_length = emb_params['window_length'], walk_length=emb_params['walk_length'], num_walks=emb_params['num_walks'])\n",
    "\n",
    "        model.fit(net)\n",
    "\n",
    "        emb = model.transform(dim=emb_params['dim'])"
   ]
  },
  {
   "cell_type": "code",
   "execution_count": 1,
   "metadata": {},
   "outputs": [],
   "source": [
    "# Laplacian EigenMap"
   ]
  },
  {
   "cell_type": "code",
   "execution_count": null,
   "metadata": {},
   "outputs": [],
   "source": [
    "# Spectral Modularity Maximisation"
   ]
  },
  {
   "cell_type": "code",
   "execution_count": 2,
   "metadata": {},
   "outputs": [],
   "source": [
    "# DeepWalk (same architecture as node2vec)"
   ]
  },
  {
   "cell_type": "code",
   "execution_count": null,
   "metadata": {},
   "outputs": [],
   "source": [
    "# LINE (same architecture as node2vec)"
   ]
  }
 ],
 "metadata": {
  "kernelspec": {
   "display_name": "kmeans_env",
   "language": "python",
   "name": "kmeans_env"
  },
  "language_info": {
   "codemirror_mode": {
    "name": "ipython",
    "version": 3
   },
   "file_extension": ".py",
   "mimetype": "text/x-python",
   "name": "python",
   "nbconvert_exporter": "python",
   "pygments_lexer": "ipython3",
   "version": "3.9.18"
  }
 },
 "nbformat": 4,
 "nbformat_minor": 4
}
