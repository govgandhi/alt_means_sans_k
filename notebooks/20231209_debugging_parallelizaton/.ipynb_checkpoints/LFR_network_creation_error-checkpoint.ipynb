{
 "cells": [
  {
   "cell_type": "code",
   "execution_count": 1,
   "metadata": {},
   "outputs": [],
   "source": [
    "# The hypothesis is that network creation is problematic for certain\n",
    "# parameters and the way LFR handles it causes the code to get stuck "
   ]
  },
  {
   "cell_type": "code",
   "execution_count": null,
   "metadata": {},
   "outputs": [
    {
     "name": "stdout",
     "output_type": "stream",
     "text": [
      "0.0\n",
      "0.05\n",
      "0.1\n",
      "0.15\n",
      "0.2\n",
      "0.25\n",
      "0.3\n",
      "0.35\n",
      "0.4\n",
      "0.45\n",
      "0.5\n",
      "0.55\n",
      "0.6\n",
      "0.65\n",
      "0.7\n",
      "0.75\n",
      "0.8\n",
      "0.85\n",
      "0.9\n",
      "0.95\n",
      "1.0\n",
      "0.0\n",
      "0.05\n",
      "0.1\n",
      "0.15\n",
      "0.2\n",
      "0.25\n",
      "0.3\n",
      "0.35\n",
      "0.4\n",
      "0.45\n",
      "0.5\n",
      "0.55\n",
      "0.6\n",
      "0.65\n",
      "0.7\n",
      "0.75\n",
      "0.8\n",
      "0.85\n",
      "0.9\n"
     ]
    }
   ],
   "source": [
    "import lfr\n",
    "import numpy as np\n",
    "from copy import deepcopy\n",
    "\n",
    "def create(params):\n",
    "    ng = lfr.NetworkGenerator()\n",
    "    data = ng.generate(**params)\n",
    "    print(params['mu'])\n",
    "\n",
    "params = {\n",
    "    \"N\": 1000,\n",
    "    \"k\": 10,\n",
    "    \"maxk\": 100,\n",
    "    \"minc\": 10,\n",
    "    \"maxc\": 100,\n",
    "    \"tau\": 2.1,\n",
    "    \"tau2\": 1.0,\n",
    "    \"mu\": 0.9,\n",
    "}\n",
    "\n",
    "for i in range(1,11):\n",
    "    for mu in np.round(np.arange(0, 1.05, 0.05),decimals=2):\n",
    "        temp_param = deepcopy(params)\n",
    "        temp_param['mu'] = mu\n",
    "        create(temp_param)\n",
    "print(\"subam\")"
   ]
  },
  {
   "cell_type": "code",
   "execution_count": 23,
   "metadata": {
    "scrolled": false
   },
   "outputs": [
    {
     "name": "stdout",
     "output_type": "stream",
     "text": [
      "    def generate(\n",
      "        self,\n",
      "        N,  # number of nodes\n",
      "        k,  # average degree\n",
      "        maxk,  # maximum degree\n",
      "        minc,  # minimum community size\n",
      "        maxc,  # maximum community size\n",
      "        tau,  # degree exponent\n",
      "        tau2,  # community size exponent\n",
      "        mu,  # Mixing rate\n",
      "    ):\n",
      "        \"\"\" \"\n",
      "        Generate a network using the Lancichinetti–Fortunato–Radicchi (LFR) model.\n",
      "\n",
      "        Parameters\n",
      "        ----------\n",
      "        self : object\n",
      "            The object instance.\n",
      "        N : int\n",
      "            Number of nodes in the generated network.\n",
      "        k : float\n",
      "            Average degree of each node.\n",
      "        maxk : int\n",
      "            Maximum degree of each node.\n",
      "        minc : int\n",
      "            Minimum size of communities.\n",
      "        maxc : int\n",
      "            Maximum size of communities.\n",
      "        tau : float\n",
      "            Power-law exponent for generating node degrees.\n",
      "        tau2 : float\n",
      "            Power-law exponent for generating community sizes.\n",
      "        mu : float\n",
      "            Mixing parameter that controls the fraction of intra-community edges to total edges.\n",
      "\n",
      "        Returns\n",
      "        -------\n",
      "        dict\n",
      "            A dictionary containing the generated network, community table, and seed for the random number generator used in the generation process.\n",
      "        \"\"\"\n",
      "        edge_table, community_table, seed = self.generate_lfr_net(\n",
      "            N=N, k=k, maxk=maxk, minc=minc, maxc=maxc, tau=tau, tau2=tau2, mu=mu\n",
      "        )\n",
      "\n",
      "        N = community_table.shape[0]\n",
      "        A = sparse.csr_matrix(\n",
      "            (\n",
      "                np.ones(edge_table.shape[0]),\n",
      "                (edge_table[\"source\"], edge_table[\"target\"]),\n",
      "            ),\n",
      "            shape=(N, N),\n",
      "        )\n",
      "\n",
      "        networks = {\n",
      "            \"net\": A,\n",
      "            \"community_table\": community_table,\n",
      "            \"seed\": seed,\n",
      "        }\n",
      "        return networks\n",
      "\n"
     ]
    }
   ],
   "source": [
    "import inspect\n",
    "print(inspect.getsource(lfr.NetworkGenerator().generate))"
   ]
  },
  {
   "cell_type": "code",
   "execution_count": null,
   "metadata": {},
   "outputs": [],
   "source": []
  }
 ],
 "metadata": {
  "kernelspec": {
   "display_name": "kmeans_env",
   "language": "python",
   "name": "kmeans_env"
  },
  "language_info": {
   "codemirror_mode": {
    "name": "ipython",
    "version": 3
   },
   "file_extension": ".py",
   "mimetype": "text/x-python",
   "name": "python",
   "nbconvert_exporter": "python",
   "pygments_lexer": "ipython3",
   "version": "3.9.18"
  }
 },
 "nbformat": 4,
 "nbformat_minor": 4
}
