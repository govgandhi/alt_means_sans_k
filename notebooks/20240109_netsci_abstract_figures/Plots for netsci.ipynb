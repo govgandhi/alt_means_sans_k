{
 "cells": [
  {
   "cell_type": "code",
   "execution_count": 1,
   "metadata": {},
   "outputs": [],
   "source": [
    "import time\n",
    "import pandas as pd\n",
    "import numpy as np\n",
    "from copy import deepcopy\n",
    "import sys\n",
    "import os\n",
    "import csv\n",
    "from itertools import cycle\n",
    "import warnings\n",
    "from itertools import cycle\n",
    "from scipy import sparse\n",
    "import matplotlib.pyplot as plt\n",
    "# Suppress all warnings\n",
    "warnings.filterwarnings(\"ignore\")\n",
    "# warnings.resetwarnings() # To change it back (optional)\n",
    "\n",
    "sys.path.append(\"/nobackup/gogandhi/alt_means_sans_k/\")\n",
    "\n",
    "from scripts.similarity_scores import get_scores,clustering_method_values\n",
    "from scripts.nets_and_embeddings import *"
   ]
  },
  {
   "cell_type": "code",
   "execution_count": 2,
   "metadata": {},
   "outputs": [],
   "source": [
    "#net_n~\n",
    "net_file = \"/nobackup/gogandhi/alt_means_sans_k/data/lfr_sadamori/net_n~10000_k~10_tau~3_tau2~1_minc~50_mu~0.10_sample~0.npz\"\n",
    "#node_n~\n",
    "node_file = \"/nobackup/gogandhi/alt_means_sans_k/data/lfr_sadamori/node_n~10000_k~10_tau~3_tau2~1_minc~50_mu~0.10_sample~0.npz\"\n",
    "#n~\n",
    "emb_file = \"/nobackup/gogandhi/alt_means_sans_k/data/lfr_sadamori/n~10000_k~10_tau~3_tau2~1_minc~50_mu~0.10_sample~0_model_name~node2vec_window_length~10_dim~64.npz\"\n",
    "\n",
    "net = sparse.load_npz(net_file)\n",
    "node_table = pd.read_csv(node_file)\n",
    "node_table = node_table.rename(columns={'membership': 'community_id'})\n",
    "emb = np.load(emb_file)[\"emb\"]\n"
   ]
  },
  {
   "cell_type": "code",
   "execution_count": 32,
   "metadata": {},
   "outputs": [
    {
     "name": "stdout",
     "output_type": "stream",
     "text": [
      "0.1 3\n"
     ]
    },
    {
     "ename": "FileNotFoundError",
     "evalue": "[Errno 2] No such file or directory: '/nobackup/gogandhi/alt_means_sans_k/data/lfr_sadamori/n~10000_k~10_tau~3_tau2~1_minc~50_mu~0.10_sample~3_model_name~node2vec_window_length~10_dim~64.npz'",
     "output_type": "error",
     "traceback": [
      "\u001b[0;31m---------------------------------------------------------------------------\u001b[0m",
      "\u001b[0;31mFileNotFoundError\u001b[0m                         Traceback (most recent call last)",
      "Cell \u001b[0;32mIn[32], line 10\u001b[0m\n\u001b[1;32m      8\u001b[0m node_table \u001b[38;5;241m=\u001b[39m pd\u001b[38;5;241m.\u001b[39mread_csv(node_file)\n\u001b[1;32m      9\u001b[0m node_table \u001b[38;5;241m=\u001b[39m node_table\u001b[38;5;241m.\u001b[39mrename(columns\u001b[38;5;241m=\u001b[39m{\u001b[38;5;124m'\u001b[39m\u001b[38;5;124mmembership\u001b[39m\u001b[38;5;124m'\u001b[39m: \u001b[38;5;124m'\u001b[39m\u001b[38;5;124mcommunity_id\u001b[39m\u001b[38;5;124m'\u001b[39m})\n\u001b[0;32m---> 10\u001b[0m emb \u001b[38;5;241m=\u001b[39m \u001b[43mnp\u001b[49m\u001b[38;5;241;43m.\u001b[39;49m\u001b[43mload\u001b[49m\u001b[43m(\u001b[49m\u001b[43memb_file\u001b[49m\u001b[43m)\u001b[49m[\u001b[38;5;124m\"\u001b[39m\u001b[38;5;124memb\u001b[39m\u001b[38;5;124m\"\u001b[39m]\n",
      "File \u001b[0;32m/nobackup/gogandhi/miniconda3/envs/kmeans_env/lib/python3.9/site-packages/numpy/lib/npyio.py:405\u001b[0m, in \u001b[0;36mload\u001b[0;34m(file, mmap_mode, allow_pickle, fix_imports, encoding, max_header_size)\u001b[0m\n\u001b[1;32m    403\u001b[0m     own_fid \u001b[38;5;241m=\u001b[39m \u001b[38;5;28;01mFalse\u001b[39;00m\n\u001b[1;32m    404\u001b[0m \u001b[38;5;28;01melse\u001b[39;00m:\n\u001b[0;32m--> 405\u001b[0m     fid \u001b[38;5;241m=\u001b[39m stack\u001b[38;5;241m.\u001b[39menter_context(\u001b[38;5;28;43mopen\u001b[39;49m\u001b[43m(\u001b[49m\u001b[43mos_fspath\u001b[49m\u001b[43m(\u001b[49m\u001b[43mfile\u001b[49m\u001b[43m)\u001b[49m\u001b[43m,\u001b[49m\u001b[43m \u001b[49m\u001b[38;5;124;43m\"\u001b[39;49m\u001b[38;5;124;43mrb\u001b[39;49m\u001b[38;5;124;43m\"\u001b[39;49m\u001b[43m)\u001b[49m)\n\u001b[1;32m    406\u001b[0m     own_fid \u001b[38;5;241m=\u001b[39m \u001b[38;5;28;01mTrue\u001b[39;00m\n\u001b[1;32m    408\u001b[0m \u001b[38;5;66;03m# Code to distinguish from NumPy binary files and pickles.\u001b[39;00m\n",
      "\u001b[0;31mFileNotFoundError\u001b[0m: [Errno 2] No such file or directory: '/nobackup/gogandhi/alt_means_sans_k/data/lfr_sadamori/n~10000_k~10_tau~3_tau2~1_minc~50_mu~0.10_sample~3_model_name~node2vec_window_length~10_dim~64.npz'"
     ]
    }
   ],
   "source": [
    "for mu in mu_values:\n",
    "    for sample in samples:\n",
    "        print(mu,sample)\n",
    "        node_file = f\"/nobackup/gogandhi/alt_means_sans_k/data/lfr_sadamori/node_n~10000_k~10_tau~3_tau2~1_minc~50_mu~{mu:.2f}_sample~{sample}.npz\"\n",
    "        #n~\n",
    "        emb_file = f\"/nobackup/gogandhi/alt_means_sans_k/data/lfr_sadamori/n~10000_k~10_tau~3_tau2~1_minc~50_mu~{mu:.2f}_sample~{sample}_model_name~node2vec_window_length~10_dim~64.npz\"\n",
    "\n",
    "        node_table = pd.read_csv(node_file)\n",
    "        node_table = node_table.rename(columns={'membership': 'community_id'})\n",
    "        emb = np.load(emb_file)[\"emb\"]"
   ]
  },
  {
   "cell_type": "code",
   "execution_count": 5,
   "metadata": {},
   "outputs": [],
   "source": [
    "# Node2vec uses dot similarity metric (|u||v|cos(theta))\n",
    "# Kmeans uses euclidean distance (sqrt({ux - vx}**2 + {uy - vy}**2))\n",
    "# Our proposed algorithm uses dot similarity like node2vec\n",
    "\n",
    "# How different do the results come if we streamline this metric?\n",
    "# What if we just change kmeans from euclidean to dot? \n",
    "# Does that defeat the purpose of this algo?"
   ]
  },
  {
   "cell_type": "code",
   "execution_count": 29,
   "metadata": {},
   "outputs": [
    {
     "ename": "FileNotFoundError",
     "evalue": "[Errno 2] No such file or directory: '/nobackup/gogandhi/alt_means_sans_k/data/lfr_sadamori/n~10000_k~10_tau~3_tau2~1_minc~50_mu~0.10_sample~3_model_name~node2vec_window_length~10_dim~64.npz'",
     "output_type": "error",
     "traceback": [
      "\u001b[0;31m---------------------------------------------------------------------------\u001b[0m",
      "\u001b[0;31mFileNotFoundError\u001b[0m                         Traceback (most recent call last)",
      "Cell \u001b[0;32mIn[29], line 25\u001b[0m\n\u001b[1;32m     23\u001b[0m node_table \u001b[38;5;241m=\u001b[39m pd\u001b[38;5;241m.\u001b[39mread_csv(node_file)\n\u001b[1;32m     24\u001b[0m node_table \u001b[38;5;241m=\u001b[39m node_table\u001b[38;5;241m.\u001b[39mrename(columns\u001b[38;5;241m=\u001b[39m{\u001b[38;5;124m'\u001b[39m\u001b[38;5;124mmembership\u001b[39m\u001b[38;5;124m'\u001b[39m: \u001b[38;5;124m'\u001b[39m\u001b[38;5;124mcommunity_id\u001b[39m\u001b[38;5;124m'\u001b[39m})\n\u001b[0;32m---> 25\u001b[0m emb \u001b[38;5;241m=\u001b[39m \u001b[43mnp\u001b[49m\u001b[38;5;241;43m.\u001b[39;49m\u001b[43mload\u001b[49m\u001b[43m(\u001b[49m\u001b[43memb_file\u001b[49m\u001b[43m)\u001b[49m[\u001b[38;5;124m\"\u001b[39m\u001b[38;5;124memb\u001b[39m\u001b[38;5;124m\"\u001b[39m]\n\u001b[1;32m     26\u001b[0m scores \u001b[38;5;241m=\u001b[39m (clustering_method_values(net, node_table, emb, score_keys, device_name))\n\u001b[1;32m     28\u001b[0m scores_kmeans\u001b[38;5;241m.\u001b[39mappend(scores[\u001b[38;5;124m'\u001b[39m\u001b[38;5;124mkmeans\u001b[39m\u001b[38;5;124m'\u001b[39m])\n",
      "File \u001b[0;32m/nobackup/gogandhi/miniconda3/envs/kmeans_env/lib/python3.9/site-packages/numpy/lib/npyio.py:405\u001b[0m, in \u001b[0;36mload\u001b[0;34m(file, mmap_mode, allow_pickle, fix_imports, encoding, max_header_size)\u001b[0m\n\u001b[1;32m    403\u001b[0m     own_fid \u001b[38;5;241m=\u001b[39m \u001b[38;5;28;01mFalse\u001b[39;00m\n\u001b[1;32m    404\u001b[0m \u001b[38;5;28;01melse\u001b[39;00m:\n\u001b[0;32m--> 405\u001b[0m     fid \u001b[38;5;241m=\u001b[39m stack\u001b[38;5;241m.\u001b[39menter_context(\u001b[38;5;28;43mopen\u001b[39;49m\u001b[43m(\u001b[49m\u001b[43mos_fspath\u001b[49m\u001b[43m(\u001b[49m\u001b[43mfile\u001b[49m\u001b[43m)\u001b[49m\u001b[43m,\u001b[49m\u001b[43m \u001b[49m\u001b[38;5;124;43m\"\u001b[39;49m\u001b[38;5;124;43mrb\u001b[39;49m\u001b[38;5;124;43m\"\u001b[39;49m\u001b[43m)\u001b[49m)\n\u001b[1;32m    406\u001b[0m     own_fid \u001b[38;5;241m=\u001b[39m \u001b[38;5;28;01mTrue\u001b[39;00m\n\u001b[1;32m    408\u001b[0m \u001b[38;5;66;03m# Code to distinguish from NumPy binary files and pickles.\u001b[39;00m\n",
      "\u001b[0;31mFileNotFoundError\u001b[0m: [Errno 2] No such file or directory: '/nobackup/gogandhi/alt_means_sans_k/data/lfr_sadamori/n~10000_k~10_tau~3_tau2~1_minc~50_mu~0.10_sample~3_model_name~node2vec_window_length~10_dim~64.npz'"
     ]
    }
   ],
   "source": [
    "mu_values = np.round(np.arange(0.10, 1.05, 0.05),decimals=2)\n",
    "samples = np.arange(3,10)\n",
    "score_keys=[\"kmeans\",\"proposed\"]\n",
    "device_names = [f\"cuda:{i}\" for i in [0,1,2,3]]  # ['cuda:0', 'cuda:1', 'cuda:2', 'cuda:3']\n",
    "\n",
    "# We can snakemake this easily._\n",
    "#kmeans_curve = {}\n",
    "#proposed_curve = {}\n",
    "for mu in mu_values:\n",
    "    start_time = time.perf_counter()\n",
    "    scores_kmeans = []\n",
    "    scores_proposed = []\n",
    "    for sample, device_name in zip(samples,cycle(device_names)):\n",
    "        start_time_run = time.perf_counter()\n",
    "        #net_n~\n",
    "        #net_file = f\"/nobackup/gogandhi/alt_means_sans_k/data/lfr_sadamori/net_n~10000_k~10_tau~3_tau2~1_minc~50_mu~{mu:.2f}_sample~{sample}.npz\"\n",
    "        #node_n~\n",
    "        node_file = f\"/nobackup/gogandhi/alt_means_sans_k/data/lfr_sadamori/node_n~10000_k~10_tau~3_tau2~1_minc~50_mu~{mu:.2f}_sample~{sample}.npz\"\n",
    "        #n~\n",
    "        emb_file = f\"/nobackup/gogandhi/alt_means_sans_k/data/lfr_sadamori/n~10000_k~10_tau~3_tau2~1_minc~50_mu~{mu:.2f}_sample~{sample}_model_name~node2vec_window_length~10_dim~64.npz\"\n",
    "\n",
    "        #net = sparse.load_npz(net_file)\n",
    "        node_table = pd.read_csv(node_file)\n",
    "        node_table = node_table.rename(columns={'membership': 'community_id'})\n",
    "        emb = np.load(emb_file)[\"emb\"]\n",
    "        scores = (clustering_method_values(None, node_table, emb, score_keys, device_name))\n",
    "\n",
    "        scores_kmeans.append(scores['kmeans'])\n",
    "        scores_proposed.append(scores['proposed'])\n",
    "        \n",
    "        print(f\"Sample: {sample} in \",time.perf_counter()- start_time_run)\n",
    "    print(f\"mu: {mu} in \", time.perf_counter()- start_time)\n",
    "    proposed_curve[mu].append(scores_proposed)\n",
    "    kmeans_curve[mu].append(scores_kmeans)"
   ]
  },
  {
   "cell_type": "code",
   "execution_count": 26,
   "metadata": {},
   "outputs": [
    {
     "data": {
      "text/plain": [
       "array([3, 4, 5, 6, 7, 8, 9])"
      ]
     },
     "execution_count": 26,
     "metadata": {},
     "output_type": "execute_result"
    }
   ],
   "source": [
    "samples = np.arange(3,10)\n",
    "samples"
   ]
  },
  {
   "cell_type": "code",
   "execution_count": 15,
   "metadata": {},
   "outputs": [
    {
     "data": {
      "text/plain": [
       "{0.1: [0.9911158100759764, 0.99899173733894, 0.9890827407592244],\n",
       " 0.15: [0.9964545676240777, 0.9954249251800459, 0.9942843743297342],\n",
       " 0.2: [0.9813107172452334, 0.9726433521201681, 0.9769356006977264],\n",
       " 0.25: [0.9701754366320952, 0.9515796155701174, 0.9758274392840749],\n",
       " 0.3: [0.9137335441532639, 0.9303432171026014, 0.917922607615509],\n",
       " 0.35: [0.8723363978458984, 0.8694611274357668, 0.8997484763543578],\n",
       " 0.4: [0.8375348572297783, 0.8130680893816759, 0.8319611591701898],\n",
       " 0.45: [0.6458214120273413, 0.7076484400508883, 0.7429867214922738],\n",
       " 0.5: [0.5311694263444217, 0.4339286255005286, 0.48711117372400714],\n",
       " 0.55: [0.31637146773203234, 0.349050564796278, 0.3231469905747328],\n",
       " 0.6: [0.13359550718325583, 0.14516702795695266, 0.12469114644877992],\n",
       " 0.65: [0.03583933661118059, 0.032192897958245606, 0.029497075515642283],\n",
       " 0.7: [0.014807752462034952, 0.016853824854565963, 0.014099203761615355],\n",
       " 0.75: [0.011177018169361685, 0.010917808695257459, 0.011038776662815622],\n",
       " 0.8: [0.009841197026814286, 0.009279401386297775, 0.01058399559654444],\n",
       " 0.85: [0.008094347636677168, 0.009280875434210726, 0.007619480589530333],\n",
       " 0.9: [0.008357027227576422, 0.007702736547581973, 0.00841791823617929],\n",
       " 0.95: [0.00693565275771413, 0.00748084354576883, 0.00686034004468534],\n",
       " 1.0: [0.007116321714557035, 0.006158099443372888, 0.006503687942476302]}"
      ]
     },
     "execution_count": 15,
     "metadata": {},
     "output_type": "execute_result"
    }
   ],
   "source": []
  },
  {
   "cell_type": "code",
   "execution_count": 16,
   "metadata": {},
   "outputs": [
    {
     "data": {
      "text/plain": [
       "{0.1: [0.9627155786507738, 0.9511047949797368, 0.9487214629436206],\n",
       " 0.15: [0.9290829524456693, 0.9396985259385389, 0.9490375244406694],\n",
       " 0.2: [0.9324730708467714, 0.9038004379912885, 0.9282586055410741],\n",
       " 0.25: [0.9361481489696184, 0.9238631379183281, 0.9408474966791643],\n",
       " 0.3: [0.9300221543370392, 0.9189866766126963, 0.9629664448721712],\n",
       " 0.35: [0.8903538152596097, 0.9338118715011897, 0.945740369121951],\n",
       " 0.4: [0.9083186831521304, 0.9355889857749616, 0.9438157608645801],\n",
       " 0.45: [0.9398673554509696, 0.8956188107796511, 0.9011645936392281],\n",
       " 0.5: [0.8885214560319938, 0.8757147021658386, 0.868542491525863],\n",
       " 0.55: [0.7476848194436218, 0.7319550688174956, 0.7721925906019077],\n",
       " 0.6: [0.4885171532164063, 0.49293337702828743, 0.5185747784293475],\n",
       " 0.65: [0.091166769012811, 0.0892619972294351, 0.07590794931640193],\n",
       " 0.7: [0.020914207547888884, 0.03005950817571956, 0.018958111558418367],\n",
       " 0.75: [0.012090322020238742, 0.011710063319077878, 0.011314045991338718],\n",
       " 0.8: [0.008916303348764502, 0.008476363641584352, 0.010239106013352555],\n",
       " 0.85: [0.006704077168984955, 0.007913004582330622, 0.006619239236629001],\n",
       " 0.9: [0.006667815615945072, 0.005976098880242117, 0.006715753452294585],\n",
       " 0.95: [0.0054351095467063655, 0.0057620393965176556, 0.00515135614509674],\n",
       " 1.0: [0.005478812163546057, 0.004804406824795765, 0.004848075930993693]}"
      ]
     },
     "execution_count": 16,
     "metadata": {},
     "output_type": "execute_result"
    }
   ],
   "source": [
    "kmeans_curve"
   ]
  },
  {
   "cell_type": "code",
   "execution_count": 36,
   "metadata": {},
   "outputs": [
    {
     "data": {
      "text/plain": [
       "Text(0.5, 1.0, 'Runs: 3 | Nodes: 10000 | $\\\\tau$: 3.0 | $<k>$: 10')"
      ]
     },
     "execution_count": 36,
     "metadata": {},
     "output_type": "execute_result"
    },
    {
     "data": {
      "image/png": "[encoded data removed]",
      "text/plain": [
       "<Figure size 700x400 with 1 Axes>"
      ]
     },
     "metadata": {},
     "output_type": "display_data"
    }
   ],
   "source": [
    "\n",
    "# plt.plot(mu_values, l1,'-x',label='kmeans')\n",
    "# plt.plot(mu_values, l2,'-o',label = 'proposed')\n",
    "\n",
    "plt.figure(figsize=(7,4))\n",
    "\n",
    "l1=[]\n",
    "l2=[]\n",
    "l1_std=[]\n",
    "l2_std=[]\n",
    "for i in mu_values:\n",
    "    l1.append(np.mean(kmeans_curve[i]))\n",
    "    l2.append(np.mean(proposed_curve[i]))\n",
    "    l1_std.append(np.std(kmeans_curve[i]))\n",
    "    l2_std.append(np.std(proposed_curve[i]))\n",
    "    \n",
    "l1 = np.array(l1)\n",
    "l2 = np.array(l2)\n",
    "l1_std = np.array(l1_std)\n",
    "l2_std = np.array(l2_std)\n",
    "plt.plot(mu_values,l1, '-o',label=\"kmeans\")\n",
    "plt.plot(mu_values,l2, '-x',label=\"proposed\")\n",
    "plt.fill_between(mu_values, l1 - l1_std,l1 + l1_std, alpha=0.2)\n",
    "plt.fill_between(mu_values, l2 - l2_std,l2 + l2_std, alpha=0.2)\n",
    "\n",
    "plt.xlabel(r'Mixing Parameter: $\\mu$')\n",
    "plt.ylabel('Element Centric Similarity')\n",
    "plt.legend(title=\"Algorithm\", loc='upper right', bbox_to_anchor=(1.3, 0.8))\n",
    "plt.grid(True)\n",
    "plt.tight_layout()\n",
    "\n",
    "plt.title(rf'Runs: {3} | Nodes: {10000} | $\\tau$: {3.0} | $<k>$: {10}')\n"
   ]
  },
  {
   "cell_type": "code",
   "execution_count": 9,
   "metadata": {},
   "outputs": [
    {
     "data": {
      "text/plain": [
       "array([0.10, 0.15, 0.20, 0.25, 0.30, 0.35, 0.40, 0.45, 0.50, 0.55, 0.60,\n",
       "       0.65, 0.70, 0.75, 0.80, 0.85, 0.90, 0.95, 1.00])"
      ]
     },
     "execution_count": 9,
     "metadata": {},
     "output_type": "execute_result"
    }
   ],
   "source": [
    "mu_values = np.round(np.arange(0.10, 1.05, 0.05),decimals=2)\n",
    "np.set_printoptions(formatter={'float': '{:0.2f}'.format})\n",
    "mu_values"
   ]
  },
  {
   "cell_type": "code",
   "execution_count": null,
   "metadata": {},
   "outputs": [],
   "source": [
    "import time\n",
    "import pandas as pd\n",
    "import numpy as np\n",
    "from copy import deepcopy\n",
    "import sys\n",
    "import os\n",
    "import csv\n",
    "from itertools import cycle\n",
    "import warnings\n",
    "\n",
    "# Suppress all warnings\n",
    "warnings.filterwarnings(\"ignore\")\n",
    "# warnings.resetwarnings() # To change it back (optional)\n",
    "\n",
    "sys.path.append(\"/nobackup/gogandhi/alt_means_sans_k/\")\n",
    "\n",
    "from scripts.similarity_scores import get_scores\n",
    "\n",
    "\n",
    "\n",
    "def process_and_save_result(run_no, mu, path_name, score_keys, device_name, emb_params, params,csv_file_path):\n",
    "    start_time = time.perf_counter()\n",
    "\n",
    "    if not os.path.isdir(f\"{path_name}/Run_{run_no}/\"):\n",
    "        os.mkdir(f\"{path_name}/Run_{run_no}/\")\n",
    "\n",
    "    params['mu'] = mu\n",
    "    result_run_mu = get_scores(params, emb_params, score_keys, f\"{path_name}/Run_{run_no}/\", device_name)\n",
    "    \n",
    "    with open(csv_file_path, 'a', newline='') as csv_file:\n",
    "        csv_writer = csv.writer(csv_file)\n",
    "        csv_writer.writerow([run_no, mu] + [result_run_mu[key] for key in score_keys])\n",
    "        \n",
    "    elapsed_time = time.perf_counter() - start_time\n",
    "    \n",
    "    print(run_no,mu,elapsed_time)\n",
    "    return run_no, mu, result_run_mu\n",
    "\n",
    "def save_accumulated_results(results, pathname, score_keys):\n",
    "    for run_no, mu, result_run_mu in results:\n",
    "        df = pd.DataFrame.from_dict(result_run_mu, orient='index')\n",
    "        df.reset_index(inplace=True)\n",
    "        df.columns = ['mu'] + list(df.columns[1:])\n",
    "        df.to_csv(f\"{pathname}/Run_{run_no}/mu_{mu:.2f}_change.csv\", index=False)\n",
    "\n",
    "accumulator = []  # List to accumulate results for each run and mu\n",
    "\n",
    "\n",
    "num_cores = 10\n",
    "\n",
    "path_name = f\"/nobackup/gogandhi/alt_means_sans_k/data/lfr_sadamori\"\n",
    "\n",
    "#################### End of Params #################\n",
    "\n",
    "csv_file_path = path_name + \"/result_stream.csv\"\n",
    "\n",
    "print(\"Hello, you can find results at:\\n\",path_name)\n",
    "\n",
    "with open(csv_file_path, 'w', newline='') as csv_file:\n",
    "    csv_writer = csv.writer(csv_file)\n",
    "    csv_writer.writerow(['run_no', 'mu'] + score_keys)\n",
    "\n",
    "for sample in samples:\n",
    "    start_time = time.perf_counter()\n",
    "\n",
    "    for mu, device_name in zip(mu_values, cycle(device_names)):\n",
    "        start_time_run = time.perf_counter()\n",
    "        #net_n~\n",
    "        net_file = f\"/nobackup/gogandhi/alt_means_sans_k/data/lfr_sadamori/net_n~10000_k~10_tau~3_tau2~1_minc~50_mu~{mu:.2f}_sample~{sample}.npz\"\n",
    "        #node_n~\n",
    "        node_file = f\"/nobackup/gogandhi/alt_means_sans_k/data/lfr_sadamori/node_n~10000_k~10_tau~3_tau2~1_minc~50_mu~{mu:.2f}_sample~{sample}.npz\"\n",
    "        #n~\n",
    "        emb_file = f\"/nobackup/gogandhi/alt_means_sans_k/data/lfr_sadamori/n~10000_k~10_tau~3_tau2~1_minc~50_mu~{mu:.2f}_sample~{sample}_model_name~node2vec_window_length~10_dim~64.npz\"\n",
    "\n",
    "        net = sparse.load_npz(net_file)\n",
    "        node_table = pd.read_csv(node_file)\n",
    "        node_table = node_table.rename(columns={'membership': 'community_id'})\n",
    "        emb = np.load(emb_file)[\"emb\"]\n",
    "        scores = (clustering_method_values(net, node_table, emb, score_keys, device_name))\n",
    "\n",
    "        with open(csv_file_path, 'a', newline='') as csv_file:\n",
    "            csv_writer = csv.writer(csv_file)\n",
    "            csv_writer.writerow([sample, mu] + [scores[key] for key in score_keys])\n",
    "        print(f\"Mu {mu}: \", time.perf_counter() - start_time_run)\n",
    "    print(f\"Run took: {time.perf_counter() - start_time}, avg time per mu_val: {(time.perf_counter() - start_time)/len(mu_values)}\")"
   ]
  }
 ],
 "metadata": {
  "kernelspec": {
   "display_name": "kmeans_env",
   "language": "python",
   "name": "kmeans_env"
  },
  "language_info": {
   "codemirror_mode": {
    "name": "ipython",
    "version": 3
   },
   "file_extension": ".py",
   "mimetype": "text/x-python",
   "name": "python",
   "nbconvert_exporter": "python",
   "pygments_lexer": "ipython3",
   "version": "3.9.18"
  }
 },
 "nbformat": 4,
 "nbformat_minor": 4
}
