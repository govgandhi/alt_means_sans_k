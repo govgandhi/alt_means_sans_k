{
 "cells": [
  {
   "cell_type": "code",
   "execution_count": 1,
   "id": "d7116b32",
   "metadata": {},
   "outputs": [],
   "source": [
    "import numpy as np\n",
    "import pandas as pd\n",
    "from scipy import sparse\n",
    "import sys\n",
    "import time\n"
   ]
  },
  {
   "cell_type": "code",
   "execution_count": 2,
   "id": "43dbb758",
   "metadata": {},
   "outputs": [
    {
     "ename": "FileNotFoundError",
     "evalue": "[Errno 2] No such file or directory: '/data/sg/authordynamics/data/scisci/embeddings/paper_embedding~c379080bfadbae77a7893eb56d052551_model~instemb.npz'",
     "output_type": "error",
     "traceback": [
      "\u001b[0;31m---------------------------------------------------------------------------\u001b[0m",
      "\u001b[0;31mFileNotFoundError\u001b[0m                         Traceback (most recent call last)",
      "Cell \u001b[0;32mIn[2], line 4\u001b[0m\n\u001b[1;32m      1\u001b[0m st \u001b[38;5;241m=\u001b[39m time\u001b[38;5;241m.\u001b[39mperf_counter()\n\u001b[1;32m      3\u001b[0m emb_path \u001b[38;5;241m=\u001b[39m \u001b[38;5;124m\"\u001b[39m\u001b[38;5;124m/data/sg/authordynamics/data/scisci/embeddings/paper_embedding~c379080bfadbae77a7893eb56d052551_model~instemb.npz\u001b[39m\u001b[38;5;124m\"\u001b[39m\n\u001b[0;32m----> 4\u001b[0m emb \u001b[38;5;241m=\u001b[39m \u001b[43mnp\u001b[49m\u001b[38;5;241;43m.\u001b[39;49m\u001b[43mload\u001b[49m\u001b[43m(\u001b[49m\u001b[43memb_path\u001b[49m\u001b[43m)\u001b[49m[\u001b[38;5;124m\"\u001b[39m\u001b[38;5;124memb\u001b[39m\u001b[38;5;124m\"\u001b[39m] \u001b[38;5;66;03m# Embedding data of papers\u001b[39;00m\n\u001b[1;32m      6\u001b[0m end \u001b[38;5;241m=\u001b[39m time\u001b[38;5;241m.\u001b[39mperf_counter()\n\u001b[1;32m      7\u001b[0m end \u001b[38;5;241m-\u001b[39m st\n",
      "File \u001b[0;32m/nobackup/gogandhi/miniconda3/envs/kmeans_env/lib/python3.9/site-packages/numpy/lib/npyio.py:405\u001b[0m, in \u001b[0;36mload\u001b[0;34m(file, mmap_mode, allow_pickle, fix_imports, encoding, max_header_size)\u001b[0m\n\u001b[1;32m    403\u001b[0m     own_fid \u001b[38;5;241m=\u001b[39m \u001b[38;5;28;01mFalse\u001b[39;00m\n\u001b[1;32m    404\u001b[0m \u001b[38;5;28;01melse\u001b[39;00m:\n\u001b[0;32m--> 405\u001b[0m     fid \u001b[38;5;241m=\u001b[39m stack\u001b[38;5;241m.\u001b[39menter_context(\u001b[38;5;28;43mopen\u001b[39;49m\u001b[43m(\u001b[49m\u001b[43mos_fspath\u001b[49m\u001b[43m(\u001b[49m\u001b[43mfile\u001b[49m\u001b[43m)\u001b[49m\u001b[43m,\u001b[49m\u001b[43m \u001b[49m\u001b[38;5;124;43m\"\u001b[39;49m\u001b[38;5;124;43mrb\u001b[39;49m\u001b[38;5;124;43m\"\u001b[39;49m\u001b[43m)\u001b[49m)\n\u001b[1;32m    406\u001b[0m     own_fid \u001b[38;5;241m=\u001b[39m \u001b[38;5;28;01mTrue\u001b[39;00m\n\u001b[1;32m    408\u001b[0m \u001b[38;5;66;03m# Code to distinguish from NumPy binary files and pickles.\u001b[39;00m\n",
      "\u001b[0;31mFileNotFoundError\u001b[0m: [Errno 2] No such file or directory: '/data/sg/authordynamics/data/scisci/embeddings/paper_embedding~c379080bfadbae77a7893eb56d052551_model~instemb.npz'"
     ]
    }
   ],
   "source": [
    "st = time.perf_counter()\n",
    "\n",
    "emb_path = \"/data/sg/authordynamics/data/scisci/embeddings/paper_embedding~c379080bfadbae77a7893eb56d052551_model~instemb.npz\"\n",
    "emb = np.load(emb_path)[\"emb\"] # Embedding data of papers\n",
    "\n",
    "end = time.perf_counter()\n",
    "end - st"
   ]
  },
  {
   "cell_type": "code",
   "execution_count": null,
   "id": "a44e6b32",
   "metadata": {},
   "outputs": [],
   "source": [
    "st = time.perf_counter()\n",
    "\n",
    "file_path = \"/data/sg/authordynamics/data/derived/preprocessed/scisci/paper_table.csv\" # papers' metadata\n",
    "\n",
    "df = pd.read_csv(file_path)\n",
    "\n",
    "paper_id_column = df[\"paper_id\"] # paper_id indicates index of embedding array\n",
    "\n",
    "end = time.perf_counter()\n",
    "end - st"
   ]
  },
  {
   "cell_type": "code",
   "execution_count": 13,
   "id": "518035ca",
   "metadata": {},
   "outputs": [],
   "source": [
    "keyword2paper_file = \"/data/sg/authordynamics/data/derived/preprocessed/scisci/keywords/keyword2paper_keyword~wos.npz\"\n",
    "# Ground truth subject categories\n",
    "\n",
    "keyword2paper_net = sparse.csr_matrix(sparse.load_npz(keyword2paper_file))"
   ]
  },
  {
   "cell_type": "code",
   "execution_count": 14,
   "id": "52d4284b",
   "metadata": {},
   "outputs": [
    {
     "data": {
      "text/plain": [
       "(95565418, 256)"
      ]
     },
     "execution_count": 14,
     "metadata": {},
     "output_type": "execute_result"
    }
   ],
   "source": [
    "np.shape(emb)"
   ]
  },
  {
   "cell_type": "code",
   "execution_count": 16,
   "id": "a3f3c170",
   "metadata": {},
   "outputs": [
    {
     "data": {
      "text/html": [
       "<div>\n",
       "<style scoped>\n",
       "    .dataframe tbody tr th:only-of-type {\n",
       "        vertical-align: middle;\n",
       "    }\n",
       "\n",
       "    .dataframe tbody tr th {\n",
       "        vertical-align: top;\n",
       "    }\n",
       "\n",
       "    .dataframe thead th {\n",
       "        text-align: right;\n",
       "    }\n",
       "</style>\n",
       "<table border=\"1\" class=\"dataframe\">\n",
       "  <thead>\n",
       "    <tr style=\"text-align: right;\">\n",
       "      <th></th>\n",
       "      <th>PaperID</th>\n",
       "      <th>doi</th>\n",
       "      <th>title</th>\n",
       "      <th>year</th>\n",
       "      <th>date</th>\n",
       "      <th>journal_id</th>\n",
       "      <th>paper_id</th>\n",
       "    </tr>\n",
       "  </thead>\n",
       "  <tbody>\n",
       "    <tr>\n",
       "      <th>0</th>\n",
       "      <td>2789336</td>\n",
       "      <td>NaN</td>\n",
       "      <td>Inheritance and Polymorphism in Datalog: an ex...</td>\n",
       "      <td>2008</td>\n",
       "      <td>2008-01-01</td>\n",
       "      <td>8176</td>\n",
       "      <td>0</td>\n",
       "    </tr>\n",
       "    <tr>\n",
       "      <th>1</th>\n",
       "      <td>9552966</td>\n",
       "      <td>NaN</td>\n",
       "      <td>The effect of milk on plasmatic and tissue lev...</td>\n",
       "      <td>2005</td>\n",
       "      <td>2005-05-01</td>\n",
       "      <td>21619</td>\n",
       "      <td>1</td>\n",
       "    </tr>\n",
       "    <tr>\n",
       "      <th>2</th>\n",
       "      <td>2769674369</td>\n",
       "      <td>NaN</td>\n",
       "      <td>The effect of milk on plasmatic and tissue lev...</td>\n",
       "      <td>2005</td>\n",
       "      <td>2005-01-01</td>\n",
       "      <td>27200</td>\n",
       "      <td>2</td>\n",
       "    </tr>\n",
       "    <tr>\n",
       "      <th>3</th>\n",
       "      <td>14355006</td>\n",
       "      <td>NaN</td>\n",
       "      <td>Realizing the Asian Century: A Strategic Frame...</td>\n",
       "      <td>2011</td>\n",
       "      <td>2011-01-01</td>\n",
       "      <td>15452</td>\n",
       "      <td>3</td>\n",
       "    </tr>\n",
       "    <tr>\n",
       "      <th>4</th>\n",
       "      <td>2953327271</td>\n",
       "      <td>NaN</td>\n",
       "      <td>The Adaptive Priority Queue with Elimination a...</td>\n",
       "      <td>2014</td>\n",
       "      <td>2014-08-05</td>\n",
       "      <td>5636</td>\n",
       "      <td>4</td>\n",
       "    </tr>\n",
       "  </tbody>\n",
       "</table>\n",
       "</div>"
      ],
      "text/plain": [
       "      PaperID  doi                                              title  year  \\\n",
       "0     2789336  NaN  Inheritance and Polymorphism in Datalog: an ex...  2008   \n",
       "1     9552966  NaN  The effect of milk on plasmatic and tissue lev...  2005   \n",
       "2  2769674369  NaN  The effect of milk on plasmatic and tissue lev...  2005   \n",
       "3    14355006  NaN  Realizing the Asian Century: A Strategic Frame...  2011   \n",
       "4  2953327271  NaN  The Adaptive Priority Queue with Elimination a...  2014   \n",
       "\n",
       "         date  journal_id  paper_id  \n",
       "0  2008-01-01        8176         0  \n",
       "1  2005-05-01       21619         1  \n",
       "2  2005-01-01       27200         2  \n",
       "3  2011-01-01       15452         3  \n",
       "4  2014-08-05        5636         4  "
      ]
     },
     "execution_count": 16,
     "metadata": {},
     "output_type": "execute_result"
    }
   ],
   "source": [
    "df.head()"
   ]
  },
  {
   "cell_type": "code",
   "execution_count": 23,
   "id": "68c267fb",
   "metadata": {},
   "outputs": [
    {
     "name": "stdout",
     "output_type": "stream",
     "text": [
      "283561\n",
      "44493\n",
      "66553\n",
      "362364\n",
      "261907\n",
      "138701\n",
      "95740\n",
      "13990\n",
      "273672\n",
      "694803\n",
      "40933\n",
      "230550\n",
      "169866\n",
      "441581\n",
      "1834892\n",
      "61435\n",
      "317626\n",
      "143911\n",
      "366981\n",
      "1104104\n",
      "50913\n",
      "466886\n",
      "4610205\n",
      "1099920\n",
      "1174543\n",
      "177031\n",
      "261742\n",
      "69154\n",
      "367076\n",
      "347548\n",
      "117533\n",
      "318867\n",
      "118274\n",
      "146737\n",
      "136274\n",
      "577059\n",
      "253632\n",
      "2673692\n",
      "270683\n",
      "435178\n",
      "176800\n",
      "74351\n",
      "241351\n",
      "134617\n",
      "721722\n",
      "368794\n",
      "313535\n",
      "100259\n",
      "96132\n",
      "393997\n",
      "151466\n",
      "133881\n",
      "323187\n",
      "412645\n",
      "107549\n",
      "104687\n",
      "7183\n",
      "674388\n",
      "234283\n",
      "208621\n",
      "50413\n",
      "18376\n",
      "314\n",
      "298566\n",
      "1413398\n",
      "38333\n",
      "1204246\n",
      "215182\n",
      "26455\n",
      "8630\n",
      "139383\n",
      "2258299\n",
      "144178\n",
      "201177\n",
      "492509\n",
      "22015\n",
      "24943\n",
      "5504\n",
      "1410668\n",
      "39226\n",
      "217818\n",
      "9627\n",
      "690064\n",
      "113982\n",
      "352245\n",
      "267767\n",
      "473834\n",
      "42948\n",
      "1468447\n",
      "116159\n",
      "523862\n",
      "519930\n",
      "61647\n",
      "335739\n",
      "165569\n",
      "55835\n",
      "136649\n",
      "214105\n",
      "545606\n",
      "139070\n",
      "704638\n",
      "1874401\n",
      "214908\n",
      "700496\n",
      "340334\n",
      "83481\n",
      "355270\n",
      "82137\n",
      "628625\n",
      "4084\n",
      "511196\n",
      "141855\n",
      "40077\n",
      "26942\n",
      "168252\n",
      "179589\n",
      "18030\n",
      "108357\n",
      "89349\n",
      "175187\n",
      "215400\n",
      "84335\n",
      "624133\n",
      "35798\n",
      "316619\n",
      "178573\n",
      "34256\n",
      "19122\n",
      "5114\n",
      "423073\n",
      "445431\n",
      "147496\n",
      "241354\n",
      "220538\n"
     ]
    }
   ],
   "source": [
    "su=0\n",
    "for i in range(keyword2paper_net.shape[0]):\n",
    "    x = np.sum(keyword2paper_net[i])\n",
    "    print(x)\n",
    "    su+=x"
   ]
  },
  {
   "cell_type": "code",
   "execution_count": 27,
   "id": "08d9fa4d",
   "metadata": {},
   "outputs": [
    {
     "data": {
      "text/plain": [
       "(49501226, 95565418)"
      ]
     },
     "execution_count": 27,
     "metadata": {},
     "output_type": "execute_result"
    }
   ],
   "source": [
    "su, keyword2paper_net.shape[1], # Only half of the papers have ground truth subject categories"
   ]
  },
  {
   "cell_type": "code",
   "execution_count": 30,
   "id": "4c8af29f",
   "metadata": {},
   "outputs": [],
   "source": [
    "community_table = pd.DataFrame(keyword2paper_net.T)  # Assuming subject categories are indexed from 1 to 130\n",
    "\n",
    "# Find the index of the maximum value (subject category) for each paper\n",
    "community_table['community_id'] = community_table.idxmax(axis=1)\n",
    "\n"
   ]
  },
  {
   "cell_type": "code",
   "execution_count": 31,
   "id": "e2e2fb92",
   "metadata": {},
   "outputs": [
    {
     "data": {
      "text/html": [
       "<div>\n",
       "<style scoped>\n",
       "    .dataframe tbody tr th:only-of-type {\n",
       "        vertical-align: middle;\n",
       "    }\n",
       "\n",
       "    .dataframe tbody tr th {\n",
       "        vertical-align: top;\n",
       "    }\n",
       "\n",
       "    .dataframe thead th {\n",
       "        text-align: right;\n",
       "    }\n",
       "</style>\n",
       "<table border=\"1\" class=\"dataframe\">\n",
       "  <thead>\n",
       "    <tr style=\"text-align: right;\">\n",
       "      <th></th>\n",
       "      <th>0</th>\n",
       "      <th>community_id</th>\n",
       "    </tr>\n",
       "  </thead>\n",
       "  <tbody>\n",
       "    <tr>\n",
       "      <th>0</th>\n",
       "      <td>(0, 66)\\t1</td>\n",
       "      <td>0</td>\n",
       "    </tr>\n",
       "    <tr>\n",
       "      <th>1</th>\n",
       "      <td></td>\n",
       "      <td>0</td>\n",
       "    </tr>\n",
       "    <tr>\n",
       "      <th>2</th>\n",
       "      <td></td>\n",
       "      <td>0</td>\n",
       "    </tr>\n",
       "    <tr>\n",
       "      <th>3</th>\n",
       "      <td></td>\n",
       "      <td>0</td>\n",
       "    </tr>\n",
       "    <tr>\n",
       "      <th>4</th>\n",
       "      <td></td>\n",
       "      <td>0</td>\n",
       "    </tr>\n",
       "  </tbody>\n",
       "</table>\n",
       "</div>"
      ],
      "text/plain": [
       "              0  community_id\n",
       "0    (0, 66)\\t1             0\n",
       "1                           0\n",
       "2                           0\n",
       "3                           0\n",
       "4                           0"
      ]
     },
     "execution_count": 31,
     "metadata": {},
     "output_type": "execute_result"
    }
   ],
   "source": [
    "community_table.head()"
   ]
  },
  {
   "cell_type": "code",
   "execution_count": null,
   "id": "e5252093",
   "metadata": {},
   "outputs": [],
   "source": []
  }
 ],
 "metadata": {
  "kernelspec": {
   "display_name": "kmeans_env",
   "language": "python",
   "name": "kmeans_env"
  },
  "language_info": {
   "codemirror_mode": {
    "name": "ipython",
    "version": 3
   },
   "file_extension": ".py",
   "mimetype": "text/x-python",
   "name": "python",
   "nbconvert_exporter": "python",
   "pygments_lexer": "ipython3",
   "version": "3.9.18"
  }
 },
 "nbformat": 4,
 "nbformat_minor": 5
}
