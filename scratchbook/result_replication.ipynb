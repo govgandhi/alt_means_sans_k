{
 "cells": [
  {
   "cell_type": "code",
   "execution_count": 2,
   "metadata": {},
   "outputs": [
    {
     "name": "stderr",
     "output_type": "stream",
     "text": [
      "/nobackup/gogandhi/miniconda3/envs/kmeans_env/lib/python3.9/site-packages/tqdm/auto.py:21: TqdmWarning: IProgress not found. Please update jupyter and ipywidgets. See https://ipywidgets.readthedocs.io/en/stable/user_install.html\n",
      "  from .autonotebook import tqdm as notebook_tqdm\n"
     ]
    }
   ],
   "source": [
    "import sys\n",
    "import numpy as np\n",
    "from scipy import sparse\n",
    "import pandas as pd\n",
    "import networkx as nx\n",
    "import gensim\n",
    "import matplotlib.pyplot as plt\n",
    "import seaborn as sns\n",
    "from sklearn.cluster import KMeans \n",
    "from sklearn.cluster import OPTICS\n",
    "from sklearn.cluster import OPTICS, DBSCAN\n",
    "from fastnode2vec import Graph, Node2Vec\n",
    "import faiss"
   ]
  },
  {
   "cell_type": "code",
   "execution_count": null,
   "metadata": {},
   "outputs": [],
   "source": [
    "# Install a conda package in the current Jupyter kernel\n",
    "#import sys\n",
    "#!conda install --yes --prefix {sys.prefix} fastnode2vec\n",
    "#!echo $PATH\n"
   ]
  },
  {
   "cell_type": "code",
   "execution_count": null,
   "metadata": {},
   "outputs": [],
   "source": [
    "# Create a NetworkX graph\n",
    "n = 100000\n",
    "tau1 = 3 # Power law exponent determining degree of nodes\n",
    "tau2 = 1.5 # Power law exponent of function that generates community sizes\n",
    "mu = 0.2\n",
    "min_community=70\n",
    "seed=42\n",
    "avg_deg = 50\n",
    "#!TODO:\n",
    "#if Graph exists:\n",
    "#    load\n",
    "#else:\n",
    "#    G = \n",
    "G = nx.LFR_benchmark_graph(n, tau1, tau2, mu, average_degree=avg_deg, min_community=min_community, seed=seed)\n",
    "print(G)\n",
    "#nx.write_graphml(G, f\"LFR_n_{n}_tau1_{tau1}_tau2_{tau2}_mu_{mu}_k_{avg_deg}_mincomm_{min_community}_seed_{seed}.graphml\")"
   ]
  },
  {
   "cell_type": "code",
   "execution_count": 17,
   "metadata": {},
   "outputs": [
    {
     "name": "stderr",
     "output_type": "stream",
     "text": [
      "                                                                                                                         \r"
     ]
    }
   ],
   "source": [
    "# Create a Fastnode2vec Graph\n",
    "fastnode2vec_graph = Graph(list(G.edges()), directed = False, weighted = False)"
   ]
  },
  {
   "cell_type": "code",
   "execution_count": null,
   "metadata": {},
   "outputs": [],
   "source": [
    "#print(f\"LFR_n_{n}_tau1_{tau1}_tau2_{tau2}_mu_{mu}_k_5_mincomm_{min_community}_seed_{seed}\")"
   ]
  },
  {
   "cell_type": "markdown",
   "metadata": {},
   "source": [
    "We need a coherent list of community labels, since community of node 1 gives a set of all elements node 1 belongs alongside in a community"
   ]
  },
  {
   "cell_type": "code",
   "execution_count": 18,
   "metadata": {},
   "outputs": [],
   "source": [
    "comm_dict = nx.get_node_attributes(G,\"community\")\n",
    "comm_dict = list(comm_dict.values())\n",
    "# Sample list with sets\n",
    "\n",
    "# Get unique sets\n",
    "unique_sets = list(set(tuple(s) for s in comm_dict))\n",
    "# Convert the unique sets back to a list of sets\n",
    "unique_list_of_sets = [set(s) for s in unique_sets]"
   ]
  },
  {
   "cell_type": "code",
   "execution_count": 19,
   "metadata": {},
   "outputs": [],
   "source": [
    "node_to_comm_mapping = {}\n",
    "\n",
    "for node in list(G.nodes()):\n",
    "    for set_index, current_set in enumerate(unique_list_of_sets):\n",
    "\n",
    "        if node in current_set:\n",
    "            node_to_comm_mapping[node] = set_index+1\n",
    "membership = np.array(list(node_to_comm_mapping.values()))"
   ]
  },
  {
   "cell_type": "code",
   "execution_count": 20,
   "metadata": {},
   "outputs": [
    {
     "data": {
      "image/png": "[encoded data removed]",
      "text/plain": [
       "<Figure size 640x480 with 1 Axes>"
      ]
     },
     "metadata": {},
     "output_type": "display_data"
    }
   ],
   "source": [
    "# Create a histogram of the element lengths\n",
    "plt.hist([len(element) for element in unique_list_of_sets], bins=30, edgecolor='black', alpha=0.7)\n",
    "\n",
    "# Set plot labels and title\n",
    "plt.xlabel('Cluster Size')\n",
    "plt.ylabel('Count')\n",
    "plt.title('Cluster Size Distribution in LFR Graph')\n",
    "\n",
    "# Show the histogram\n",
    "plt.show()"
   ]
  },
  {
   "cell_type": "code",
   "execution_count": 21,
   "metadata": {},
   "outputs": [
    {
     "name": "stderr",
     "output_type": "stream",
     "text": [
      "                                                                                                                         \r"
     ]
    },
    {
     "name": "stdout",
     "output_type": "stream",
     "text": [
      "[ 0.62854826 -0.24627654 -0.0944656  -0.25418097  0.397122   -0.060759\n",
      " -0.27652305 -0.46835813 -0.62241364 -0.6400428   0.03244469  0.18041407\n",
      " -0.50248384  0.16475749  0.14838983 -0.02460443  0.5893015  -0.26381704\n",
      "  0.60219353  0.35038814  0.4005921  -0.17315891  0.51957464 -0.6359122\n",
      " -0.54696584  0.80288815  0.6974661   0.31293592 -0.17406645  0.26574633\n",
      " -0.07924172  0.15975513 -0.24129616  0.01666604  0.01167751  0.06818824\n",
      " -0.02679833  0.39113313  0.680287   -0.5591209   0.12385157  0.10585711\n",
      "  0.06924747  0.27278152  0.01143381 -0.25449884 -0.17712316  0.4306087\n",
      "  0.45881367  0.65390384 -0.00235969  0.2902803   0.62931937  0.2227595\n",
      " -0.35998815 -0.22778347 -0.12776603  0.06407752 -0.22079444  0.64899653\n",
      " -0.66579705  0.05784643  0.04936942  0.34826496]\n"
     ]
    }
   ],
   "source": [
    "n2v = Node2Vec(fastnode2vec_graph, dim=64, walk_length=100, window=10, p=2.0, q=0.5, workers=15)\n",
    "\n",
    "n2v.train(epochs=100)\n",
    "\n",
    "print(n2v.wv[0])\n",
    "n2v.wv.save(f\"LFR_n_{n}_tau1_{tau1}_tau2_{tau2}_mu_{mu}_k_5_mincomm_{min_community}_seed_{seed}.txt.gz.wv\")"
   ]
  },
  {
   "cell_type": "code",
   "execution_count": 22,
   "metadata": {},
   "outputs": [],
   "source": [
    "# To Load Embeddings:\n",
    "from gensim.models import KeyedVectors\n",
    "\n",
    "#wv = KeyedVectors.load(\"LFR_n_10000_tau1_3_tau2_1.5_mu_0.2_k_5_mincomm_25_seed_10.txt.gz.wv\", mmap='r')\n",
    "wv = KeyedVectors.load((f\"LFR_n_{n}_tau1_{tau1}_tau2_{tau2}_mu_{mu}_k_5_mincomm_{min_community}_seed_{seed}.txt.gz.wv\"), mmap='r')\n",
    "\n"
   ]
  },
  {
   "cell_type": "code",
   "execution_count": 23,
   "metadata": {},
   "outputs": [
    {
     "data": {
      "text/plain": [
       "(100000, 64, 113)"
      ]
     },
     "execution_count": 23,
     "metadata": {},
     "output_type": "execute_result"
    }
   ],
   "source": [
    "len(wv), len(wv[0]), len(unique_list_of_sets)"
   ]
  },
  {
   "cell_type": "markdown",
   "metadata": {},
   "source": [
    "## Reproducing results"
   ]
  },
  {
   "cell_type": "code",
   "execution_count": 24,
   "metadata": {},
   "outputs": [],
   "source": [
    "# Need net, node_table and emb files\n",
    "# net is G, emb files are wv, node_table probably\n",
    "# has some info about ground truth community labels or smth like that.\n",
    "\n",
    "# Define a function that calculates element-centric similarity:\n",
    "def calc_esim(y, ypred):\n",
    "\n",
    "    ylab, y = np.unique(y, return_inverse=True)\n",
    "    ypredlab, ypred = np.unique(ypred, return_inverse=True)\n",
    "    \n",
    "    Ka, Kb = len(ylab), len(ypredlab)\n",
    "    K = np.maximum(Ka, Kb)\n",
    "    N = len(y)\n",
    "    \n",
    "    UA = sparse.csr_matrix((np.ones_like(y), (np.arange(y.size), y)), shape=(N,K))\n",
    "    UB = sparse.csr_matrix((np.ones_like(ypred), (np.arange(ypred.size), ypred)), shape=(N, K))    \n",
    "    \n",
    "    nA = np.array(UA.sum(axis=0)).reshape(-1)\n",
    "    nB = np.array(UB.sum(axis=0)).reshape(-1)\n",
    "\n",
    "# nAB[i][j] is read as the number of elements that belong to ith ground truth label and jth predicrted label.\n",
    "# nAB[1][0] = 1 For ground truth label with index 1 and predicted label 0 we have 1 element. i.e. 0000|1| vs 1110|0|\n",
    "\n",
    "    nAB = (UA.T @ UB).toarray()\n",
    "    nAB_rand = np.outer(nA, nB) / N\n",
    "    \n",
    "# assuming that each element has an equal probability of being assigned to any label,\n",
    "# and the expected counts are calculated based on label frequencies.\n",
    "\n",
    "\n",
    "    # Calc element-centric similarity\n",
    "    Q = np.maximum(nA[:, None] @ np.ones((1, K)), np.ones((K, 1)) @ nB[None, :]) \n",
    "    Q = 1 / np.maximum(Q, 1)\n",
    "    S = np.sum(np.multiply(Q, (nAB**2))) / N\n",
    "    \n",
    "    # Calc the expected element-centric similarity for random partitions\n",
    "    Q = np.maximum(nA[:, None] @ np.ones((1, K)), np.ones((K, 1)) @ nB[None, :]) \n",
    "    Q = 1 / np.maximum(Q, 1)\n",
    "    Srand = np.sum(np.multiply(Q, (nAB_rand**2))) / N\n",
    "    Scorrected = (S - Srand) / (1 - Srand)\n",
    "    return Scorrected\n"
   ]
  },
  {
   "cell_type": "code",
   "execution_count": 25,
   "metadata": {},
   "outputs": [
    {
     "name": "stderr",
     "output_type": "stream",
     "text": [
      "/nobackup/gogandhi/miniconda3/envs/kmeans_env/lib/python3.9/site-packages/sklearn/cluster/_kmeans.py:1416: FutureWarning: The default value of `n_init` will change from 10 to 'auto' in 1.4. Set the value of `n_init` explicitly to suppress the warning\n",
      "  super()._check_params_vs_input(X, default_n_init=10)\n"
     ]
    },
    {
     "name": "stdout",
     "output_type": "stream",
     "text": [
      "Element-centric similarity:\n",
      "K-means: 0.6501350784458327\n",
      "DBSCAN: -5.0304655789480436e-05\n",
      "OPTICS: 0.21507319997097119\n"
     ]
    }
   ],
   "source": [
    "wv_array = np.vstack([wv[node] for node in list(G.nodes())])\n",
    "\n",
    "# Normalize the vector of each node to have unit length. This normalization improves clustering.\n",
    "X = np.einsum(\"ij,i->ij\", wv_array, 1 / np.maximum(np.linalg.norm(wv_array, axis=1), 1e-24))\n",
    "X = wv_array.copy()\n",
    "# Clustering\n",
    "kmeans = KMeans(n_clusters= len(unique_list_of_sets), random_state=0).fit(X)\n",
    "dbscan = DBSCAN().fit(X)\n",
    "optics = OPTICS().fit(X)\n",
    "\n",
    "test_labels = kmeans.labels_\n",
    "\n",
    "# Evaluate the clustering\n",
    "score_kmeans = calc_esim(membership, kmeans.labels_)\n",
    "score_dbscan = calc_esim(membership, dbscan.labels_)\n",
    "score_optics = calc_esim(membership, optics.labels_)\n",
    "\n",
    "print(f\"Element-centric similarity:\") \n",
    "print(f\"K-means: {score_kmeans}\")\n",
    "print(f\"DBSCAN: {score_dbscan}\") # Something Wrong\n",
    "print(f\"OPTICS: {score_optics}\") # Something Wrong\n"
   ]
  },
  {
   "cell_type": "code",
   "execution_count": 26,
   "metadata": {},
   "outputs": [
    {
     "name": "stderr",
     "output_type": "stream",
     "text": [
      "/nobackup/gogandhi/miniconda3/envs/kmeans_env/lib/python3.9/site-packages/seaborn/_oldcore.py:1498: FutureWarning: is_categorical_dtype is deprecated and will be removed in a future version. Use isinstance(dtype, CategoricalDtype) instead\n",
      "  if pd.api.types.is_categorical_dtype(vector):\n",
      "/nobackup/gogandhi/miniconda3/envs/kmeans_env/lib/python3.9/site-packages/seaborn/_oldcore.py:1119: FutureWarning: use_inf_as_na option is deprecated and will be removed in a future version. Convert inf values to NaN before operating instead.\n",
      "  with pd.option_context('mode.use_inf_as_na', True):\n",
      "/nobackup/gogandhi/miniconda3/envs/kmeans_env/lib/python3.9/site-packages/seaborn/_oldcore.py:1498: FutureWarning: is_categorical_dtype is deprecated and will be removed in a future version. Use isinstance(dtype, CategoricalDtype) instead\n",
      "  if pd.api.types.is_categorical_dtype(vector):\n",
      "/nobackup/gogandhi/miniconda3/envs/kmeans_env/lib/python3.9/site-packages/seaborn/_oldcore.py:1119: FutureWarning: use_inf_as_na option is deprecated and will be removed in a future version. Convert inf values to NaN before operating instead.\n",
      "  with pd.option_context('mode.use_inf_as_na', True):\n"
     ]
    },
    {
     "data": {
      "image/png": "[encoded data removed]",
      "text/plain": [
       "<Figure size 500x500 with 1 Axes>"
      ]
     },
     "metadata": {},
     "output_type": "display_data"
    }
   ],
   "source": [
    "clus_sz = np.unique(membership, return_counts=True)[1] \n",
    "clus_sz_kmeans = np.unique(kmeans.labels_, return_counts=True)[1]\n",
    "clus_sz_dbscan = np.unique(dbscan.labels_, return_counts=True)[1]\n",
    "clus_sz_optics = np.unique(optics.labels_, return_counts=True)[1]\n",
    "sns.set_style('white')\n",
    "sns.set(font_scale=1.2)\n",
    "sns.set_style('ticks')\n",
    "fig, ax = plt.subplots(figsize=(5,5))\n",
    "sns.histplot(clus_sz_kmeans, bins = 30, color = sns.color_palette().as_hex()[0],label = \"K-means\", ax = ax)\n",
    "#sns.histplot(clus_sz_dbscan, bins = 30, color = sns.color_palette().as_hex()[1],label = \"DBSCAN\", ax = ax)\n",
    "#sns.histplot(clus_sz_optics, bins = 30, color = sns.color_palette().as_hex()[2],label = \"OPTICS\", ax = ax)\n",
    "sns.histplot(clus_sz, bins = 30, color = sns.color_palette().as_hex()[3], label= \"Ground-truth\", ax = ax) \n",
    "ax.legend(frameon = False) \n",
    "ax.set_xlabel(\"Cluster Size\")\n",
    "sns.despine()"
   ]
  },
  {
   "cell_type": "markdown",
   "metadata": {},
   "source": [
    "### The cluster size distribution is right skewed and fat tailed. (N/A for N=1000)\n",
    "Many communities are small (<40) but large ones exist too. The K means does detect some communities of higher size. Maybe the order of magnitude is not sufficiently large, but still not perfectly of course.  \n",
    "(#TODO: Increase order of magnitude by 1)"
   ]
  },
  {
   "cell_type": "code",
   "execution_count": 27,
   "metadata": {},
   "outputs": [],
   "source": [
    "def find_knn_edges(emb, num_neighbors, \n",
    "                   target=None, metric=\"dotsim\",\n",
    "                   device=None):\n",
    "    \n",
    "    k = int(np.minimum(num_neighbors + 1, emb.shape[0]).astype(int))\n",
    "    indices, distances = find_knn(emb if target is None else target, emb,\n",
    "                                  num_neighbors=k,\n",
    "                                  metric=metric,\n",
    "                                  device=device)\n",
    "    r = np.outer(np.arange(indices.shape[0]), np.ones((1, indices.shape[1]))).astype(int)\n",
    "    r, c, distances = (r.reshape(-1),indices.astype(int).reshape(-1),distances.reshape(-1))\n",
    "    if len(r) == 0:\n",
    "        return r, c, distances \n",
    "    \n",
    "    return r, c, distances\n",
    "\n",
    "\n",
    "def find_knn(target, emb, num_neighbors, metric=\"dotsim\", device=None): \n",
    "    if metric == \"dotsim\":\n",
    "        index = faiss.IndexFlatIP(emb.shape[1]) \n",
    "    else:\n",
    "        index = faiss.IndexFlatL2(emb.shape[1]) \n",
    "    \n",
    "    if device is None:\n",
    "        index.add(emb.astype(np.float32))\n",
    "        distances, indices = index.search(target.astype(np.float32), k=num_neighbors)\n",
    "        # This line takes too long to load.\n",
    "    else: \n",
    "        try:\n",
    "            gpu_id = int(device[-1])\n",
    "            res = faiss.StandardGpuResources()\n",
    "            index = faiss.index_cpu_to_gpu(res, gpu_id, index)\n",
    "            index.add(emb.astype(np.float32))\n",
    "            distances, indices = index.search(\n",
    "                target.astype(np.float32), k=num_neighbors\n",
    "            )\n",
    "        except RuntimeError:\n",
    "            if metric == \"dotsim\":\n",
    "                index = faiss.IndexFlatIP(emb.shape[1]) \n",
    "            else:\n",
    "                index = faiss.IndexFlatL2(emb.shape[1])\n",
    "            \n",
    "            index.add(emb.astype(np.float32))\n",
    "            distances, indices = index.search(target.astype(np.float32),\n",
    "                                              k=num_neighbors)\n",
    "    return indices, distances"
   ]
  },
  {
   "cell_type": "code",
   "execution_count": 28,
   "metadata": {},
   "outputs": [
    {
     "data": {
      "text/plain": [
       "'\\n\\nimport pynvml\\n\\ndef find_gpu_id():\\n    pynvml.nvmlInit()\\n    num_gpus = pynvml.nvmlDeviceGetCount()\\n    \\n    gpu_info = []\\n    for i in range(num_gpus):\\n        handle = pynvml.nvmlDeviceGetHandleByIndex(i)\\n        name = pynvml.nvmlDeviceGetName(handle)\\n        gpu_info.append(f\"GPU {i}: {name}\")\\n    \\n    pynvml.nvmlShutdown()\\n    \\n    return gpu_info\\n\\nif __name__ == \"__main__\":\\n    gpu_info = find_gpu_id()\\n    for info in gpu_info:\\n        print(info)\\n'"
      ]
     },
     "execution_count": 28,
     "metadata": {},
     "output_type": "execute_result"
    }
   ],
   "source": [
    "#If you want to find the GPU IDs. But I recommend gpustat on terminal to see live usage.\n",
    "'''\n",
    "\n",
    "import pynvml\n",
    "\n",
    "def find_gpu_id():\n",
    "    pynvml.nvmlInit()\n",
    "    num_gpus = pynvml.nvmlDeviceGetCount()\n",
    "    \n",
    "    gpu_info = []\n",
    "    for i in range(num_gpus):\n",
    "        handle = pynvml.nvmlDeviceGetHandleByIndex(i)\n",
    "        name = pynvml.nvmlDeviceGetName(handle)\n",
    "        gpu_info.append(f\"GPU {i}: {name}\")\n",
    "    \n",
    "    pynvml.nvmlShutdown()\n",
    "    \n",
    "    return gpu_info\n",
    "\n",
    "if __name__ == \"__main__\":\n",
    "    gpu_info = find_gpu_id()\n",
    "    for info in gpu_info:\n",
    "        print(info)\n",
    "'''"
   ]
  },
  {
   "cell_type": "code",
   "execution_count": 29,
   "metadata": {},
   "outputs": [],
   "source": [
    "rpos, cpos, vpos = find_knn_edges(wv_array, num_neighbors=100, device = \"cuda:3\")\n",
    "cneg = np.random.choice(wv_array.shape[0], len(cpos))\n",
    "vneg = np.array(np.sum(wv_array[rpos, :] * wv_array[cneg, :], axis=1)).reshape(-1)"
   ]
  },
  {
   "cell_type": "code",
   "execution_count": 30,
   "metadata": {},
   "outputs": [],
   "source": [
    "#import os\n",
    "#os.system('say \"Beer time.\"')"
   ]
  },
  {
   "cell_type": "code",
   "execution_count": 31,
   "metadata": {},
   "outputs": [
    {
     "name": "stdout",
     "output_type": "stream",
     "text": [
      "w0=3.4787767838148995, b1=8.640108535341486\n"
     ]
    }
   ],
   "source": [
    "from sklearn.linear_model import LogisticRegression \n",
    "\n",
    "model = LogisticRegression()\n",
    "model.fit(\n",
    "    np.concatenate([vpos, vneg]).reshape((-1, 1)),\n",
    "    np.concatenate([np.ones_like(vpos), np.zeros_like(vneg)]),\n",
    ")\n",
    "w1, b0 = model.coef_[0, 0], -model.intercept_[0] \n",
    "print(f\"w0={w1}, b1={b0}\")"
   ]
  },
  {
   "cell_type": "code",
   "execution_count": 32,
   "metadata": {},
   "outputs": [],
   "source": [
    "import numba\n",
    "\n",
    "def louvain(Z, w1, b0, num_neighbors=100, iteration = 50, device = \"cuda:0\", return_member_matrix=False):\n",
    "    \"\"\"\"Louvain algorithm for vecto data\n",
    "    :param Z: embedding\n",
    "    :type Z: numpy.ndarray\n",
    "    :param w1: regression coefficient\n",
    "    :type w1: float\n",
    "    :param b0: intercept\n",
    "    :type b0: float\n",
    "    :param num_neighbors: Number of neighbors, defaults to 100\n",
    "    :type num_neighbors: int, optional\n",
    "    :param iteration: The maximum number of iterations, defaults to 50\n",
    "    :type iteration: int, optional\n",
    "    :param device: _description_, defaults to \"cuda:0\"\n",
    "    :type device: str, optional\n",
    "    :param return_member_matrix: _description_, defaults to False\n",
    "    :type return_member_matrix: bool, optional\n",
    "    :return: _description_\n",
    "    :rtype: _type_\n",
    "    \"\"\"\n",
    "    # Initialize the intermediate variables\n",
    "    num_nodes = Z.shape[0]\n",
    "    node_size = np.ones(num_nodes)\n",
    "    U = sparse.identity(num_nodes, format=\"csr\")\n",
    "    Vt = Z.copy()\n",
    "    \n",
    "    # The main loop for the Louvain algorithm\n",
    "    while True:\n",
    "        # Find the community assignment for the given graph # using a label switching algorithm\n",
    "        cids_t = label_switching(\n",
    "               Z=Vt,\n",
    "               num_neighbors=num_neighbors,\n",
    "               rho=b0/w1,\n",
    "               node_size=node_size,\n",
    "               epochs=iteration,\n",
    "               device=device,\n",
    "                )\n",
    "        \n",
    "        # This is to make the community labels continuous integer variables\n",
    "        _, cids_t = np.unique(cids_t, return_inverse=True)\n",
    "        \n",
    "        # If no merging, we are good to go out from the loop\n",
    "        if int(max(cids_t) + 1) == Vt.shape[0]: \n",
    "            break\n",
    "            \n",
    "        # If two nodes are merged, we created an aggregated network, \n",
    "        #where a node represents a community.\n",
    "        \n",
    "        num_nodes_t = len(cids_t)\n",
    "        k = int(np.max(cids_t) + 1)\n",
    "        Ut = sparse.csr_matrix((np.ones(num_nodes_t), (np.arange(num_nodes_t), cids_t)), shape=(num_nodes_t, k))\n",
    "        U = U @ Ut\n",
    "        Vt = Ut.T @ Vt\n",
    "        \n",
    "        node_size = np.array(Ut.T @ node_size).reshape(-1)\n",
    "    if return_member_matrix: \n",
    "        return U\n",
    "    cids = np.array((U @ sparse.diags(np.arange(U.shape[1]))).sum(axis=1)).reshape(-1)\n",
    "\n",
    "    return cids\n",
    "\n",
    "#\n",
    "# Clustering based on a label switching algorithm\n",
    "#\n",
    "def label_switching(Z, rho, num_neighbors=50, node_size=None, device=None,epochs=50):\n",
    "    num_nodes, dim = Z.shape\n",
    "    if node_size is None:\n",
    "        node_size = np.ones(num_nodes)\n",
    "    Z = Z.copy(order=\"C\").astype(np.float32)\n",
    "    # Construct the candidate graph\n",
    "    Z1 = np.hstack([Z, np.ones((num_nodes, 1))])\n",
    "    Zrho = np.hstack([Z, -rho * node_size.reshape((-1, 1))])\n",
    "\n",
    "    r, c, v = find_knn_edges(\n",
    "        Zrho,\n",
    "        target=Z1,\n",
    "        num_neighbors=num_neighbors,\n",
    "        metric=\"cosine\",\n",
    "        device=device)\n",
    "    A = sparse.csr_matrix((v, (r, c)), shape=(num_nodes, num_nodes))\n",
    "    \n",
    "    return _label_switching_(\n",
    "        A_indptr=A.indptr,\n",
    "        A_indices=A.indices,\n",
    "        Z=Z,\n",
    "        num_nodes=num_nodes,\n",
    "        rho=rho,\n",
    "        node_size=node_size,\n",
    "        epochs=epochs)\n",
    "\n",
    "#@numba.jit(nopython=True, cache=True)\n",
    "def _label_switching_(A_indptr, A_indices, Z, num_nodes, rho, node_size,epochs=100):\n",
    "    Nc = np.zeros(num_nodes)\n",
    "    cids = np.arange(num_nodes)\n",
    "    Vc = Z.copy()\n",
    "    Vnorm = np.sum(np.multiply(Z, Z), axis=1).reshape(-1) \n",
    "    for nid in range(num_nodes):\n",
    "            Nc[nid] += node_size[nid]\n",
    "    for _it in range(epochs):\n",
    "        order = np.random.choice(num_nodes, size=num_nodes, replace=False) \n",
    "        updated_node_num = 0\n",
    "        \n",
    "        for _k, node_id in enumerate(order):\n",
    "            # Get the weight and normalized weight\n",
    "            neighbors = A_indices[A_indptr[node_id] : A_indptr[node_id + 1]]\n",
    "\n",
    "            # Calculate the grain\n",
    "            c = cids[node_id]\n",
    "            clist = np.unique(cids[neighbors])\n",
    "            next_cid = -1\n",
    "            dqmax = 0\n",
    "            qself = (\n",
    "                np.sum(Z[node_id, :] * Vc[c, :])\n",
    "                - Vnorm[node_id]\n",
    "                - rho * node_size[node_id] * (Nc[c] - node_size[node_id]))\n",
    "\n",
    "            for cprime in clist:\n",
    "                if c == cprime: \n",
    "                    continue\n",
    "                dq = (np.sum(Z[node_id, :] * Vc[cprime, :])\n",
    "                        - rho * node_size[node_id] * Nc[cprime]) - qself\n",
    "                if dqmax < dq:\n",
    "                    next_cid = cprime\n",
    "                    dqmax = dq\n",
    "            if dqmax <= 1e-16: \n",
    "                continue\n",
    "\n",
    "            Nc[c] -= node_size[node_id]\n",
    "            Nc[next_cid] += node_size[node_id]\n",
    "\n",
    "            Vc[c, :] -= Z[node_id, :]\n",
    "            Vc[next_cid, :] += Z[node_id, :]\n",
    "\n",
    "            cids[node_id] = next_cid\n",
    "            updated_node_num += 1\n",
    "\n",
    "        if (updated_node_num / np.maximum(1, num_nodes)) < 1e-3: \n",
    "            break\n",
    "    return cids"
   ]
  },
  {
   "cell_type": "code",
   "execution_count": 33,
   "metadata": {},
   "outputs": [],
   "source": [
    "gs = louvain(wv_array, w1, b0, device = \"cuda:3\")"
   ]
  },
  {
   "cell_type": "code",
   "execution_count": 34,
   "metadata": {},
   "outputs": [
    {
     "name": "stdout",
     "output_type": "stream",
     "text": [
      "Element-centric similarity:\n",
      "Proposed: 0.8061066753902163\n"
     ]
    }
   ],
   "source": [
    "score_proposed = calc_esim(membership, gs) \n",
    "print(f\"Element-centric similarity:\")\n",
    "print(f\"Proposed: {score_proposed}\")"
   ]
  },
  {
   "cell_type": "markdown",
   "metadata": {},
   "source": [
    "This element-centric similarity is markedly different from the one gotten by Sadamori. The only difference in my implementation is the way in which the embedding vectors where gotten. I used Louis Abraham's Fastnode2vec to get the embedding vectors."
   ]
  },
  {
   "cell_type": "code",
   "execution_count": null,
   "metadata": {},
   "outputs": [],
   "source": []
  }
 ],
 "metadata": {
  "kernelspec": {
   "display_name": "kmeans_env",
   "language": "python",
   "name": "kmeans_env"
  },
  "language_info": {
   "codemirror_mode": {
    "name": "ipython",
    "version": 3
   },
   "file_extension": ".py",
   "mimetype": "text/x-python",
   "name": "python",
   "nbconvert_exporter": "python",
   "pygments_lexer": "ipython3",
   "version": "3.9.18"
  }
 },
 "nbformat": 4,
 "nbformat_minor": 5
}
